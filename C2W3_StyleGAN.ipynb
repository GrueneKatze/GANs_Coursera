{
  "nbformat": 4,
  "nbformat_minor": 0,
  "metadata": {
    "colab": {
      "name": "C2W3_StyleGAN",
      "provenance": [],
      "collapsed_sections": [],
      "include_colab_link": true
    },
    "kernelspec": {
      "name": "python3",
      "display_name": "Python 3"
    },
    "accelerator": "GPU"
  },
  "cells": [
    {
      "cell_type": "markdown",
      "metadata": {
        "id": "view-in-github",
        "colab_type": "text"
      },
      "source": [
        "<a href=\"https://colab.research.google.com/github/GrueneKatze/GANs_Coursera/blob/main/C2W3_StyleGAN.ipynb\" target=\"_parent\"><img src=\"https://colab.research.google.com/assets/colab-badge.svg\" alt=\"Open In Colab\"/></a>"
      ]
    },
    {
      "cell_type": "markdown",
      "metadata": {
        "id": "2bFRXfdmz5aN"
      },
      "source": [
        "#Components of StyleGAN"
      ]
    },
    {
      "cell_type": "markdown",
      "metadata": {
        "id": "jWOsZbApePWU"
      },
      "source": [
        "##Goals\r\n",
        "In this notebook, you're going to implement various components of StyleGAN, including the truncation trick, the mapping layer, noise injection, adaptive instance normalization (AdaIN), and progressive growing.\r\n",
        "\r\n",
        "##Learning Objectives\r\n",
        "* Understand the components of StyleGAN that differ from the traditional GAN.\r\n",
        "* Implement the components of StyleGAN."
      ]
    },
    {
      "cell_type": "code",
      "metadata": {
        "id": "ziYQW1LulbnX"
      },
      "source": [
        "import torch\r\n",
        "import torch.nn as nn\r\n",
        "import torch.nn.functional as F\r\n",
        "\r\n",
        "def show_tensor_images(image_tensor, num_images=16, size=(3, 64, 64), nrow=3):\r\n",
        "    '''\r\n",
        "    Function for visualizing images: Given a tensor of images, number of images,\r\n",
        "    size per image, and images per row, plots and prints the images in an uniform grid.\r\n",
        "    '''\r\n",
        "    image_tensor = (image_tensor + 1) / 2\r\n",
        "    image_unflat = image_tensor.detach().cpu().clamp_(0, 1)\r\n",
        "    image_grid = make_grid(image_unflat[:num_images], nrow=nrow, padding=0)\r\n",
        "    plt.imshow(image_grid.permute(1, 2, 0).squeeze())\r\n",
        "    plt.axis('off')\r\n",
        "    plt.show()"
      ],
      "execution_count": null,
      "outputs": []
    },
    {
      "cell_type": "markdown",
      "metadata": {
        "id": "QrDviHO6lj5_"
      },
      "source": [
        "##Truncation Trick\r\n",
        "The first component you will implement is the truncation trick. Remember that this is done after the model is trained and when you are sampling beautiful outputs. The truncation trick resamples the noise vector  𝑧  from a truncated normal distribution which allows you to tune the generator's fidelity/diversity. The truncation value is at least 0, where 1 means there is little truncation (high diversity) and 0 means the distribution is all truncated except for the mean (high quality/fidelity). This trick is not exclusive to StyleGAN. In fact, you may recall playing with it in an earlier GAN notebook."
      ]
    },
    {
      "cell_type": "code",
      "metadata": {
        "id": "0NxYfFwXlbZs"
      },
      "source": [
        "# UNQ_C1 (UNIQUE CELL IDENTIFIER, DO NOT EDIT)\r\n",
        "# GRADED CELL: get_truncated_noise\r\n",
        "\r\n",
        "from scipy.stats import truncnorm\r\n",
        "def get_truncated_noise(n_samples, z_dim, truncation):\r\n",
        "    '''\r\n",
        "    Function for creating truncated noise vectors: Given the dimensions (n_samples, z_dim)\r\n",
        "    and truncation value, creates a tensor of that shape filled with random\r\n",
        "    numbers from the truncated normal distribution.\r\n",
        "    Parameters:\r\n",
        "        n_samples: the number of samples to generate, a scalar\r\n",
        "        z_dim: the dimension of the noise vector, a scalar\r\n",
        "        truncation: the truncation value, a non-negative scalar\r\n",
        "    '''\r\n",
        "    #### START CODE HERE ####\r\n",
        "    return torch.Tensor(truncnorm.rvs(-1*truncation, truncation, size=(n_samples, z_dim)))\r\n",
        "    #rv = truncnorm(-truncation, truncation)\r\n"
      ],
      "execution_count": null,
      "outputs": []
    },
    {
      "cell_type": "code",
      "metadata": {
        "colab": {
          "base_uri": "https://localhost:8080/"
        },
        "id": "aTT3SPfklbWK",
        "outputId": "4b726089-09fc-4b6c-aeda-6acb99cd6e7c"
      },
      "source": [
        "assert tuple(get_truncated_noise(n_samples=10, z_dim=5, truncation=0.7).shape) == (10, 5)\r\n",
        "simple_noise = get_truncated_noise(n_samples=1000, z_dim=10, truncation=0.2)\r\n",
        "assert simple_noise.max() > 0.199 and simple_noise.max() < 2\r\n",
        "assert simple_noise.min() < -0.199 and simple_noise.min() > -0.2\r\n",
        "assert simple_noise.std() > 0.113 and simple_noise.std() < 0.117\r\n",
        "print(\"Success!\")"
      ],
      "execution_count": null,
      "outputs": [
        {
          "output_type": "stream",
          "text": [
            "Success!\n"
          ],
          "name": "stdout"
        }
      ]
    },
    {
      "cell_type": "markdown",
      "metadata": {
        "id": "xDPLyrrmzAHt"
      },
      "source": [
        "##Mapping  𝑧  →  𝑤 \r\n",
        "The next component you need to implement is the mapping network. It takes the noise vector,  𝑧 , and maps it to an intermediate noise vector,  𝑤 . This makes it so  𝑧  can be represented in a more disentangled space which makes the features easier to control later.\r\n",
        "\r\n",
        "The mapping network in StyleGAN is composed of 8 layers, but for your implementation, you will use a neural network with 3 layers. This is to save time training later."
      ]
    },
    {
      "cell_type": "code",
      "metadata": {
        "id": "D-aPgH7ylbSg"
      },
      "source": [
        "# UNQ_C2 (UNIQUE CELL IDENTIFIER, DO NOT EDIT)\r\n",
        "# GRADED CELL: MappingLayers\r\n",
        "\r\n",
        "class MappingLayers(nn.Module):\r\n",
        "    '''\r\n",
        "    Mapping Layers Class\r\n",
        "    Values:\r\n",
        "        z_dim: the dimension of the noise vector, a scalar\r\n",
        "        hidden_dim: the inner dimension, a scalar\r\n",
        "        w_dim: the dimension of the intermediate noise vector, a scalar\r\n",
        "    '''\r\n",
        " \r\n",
        "    def __init__(self, z_dim, hidden_dim, w_dim):\r\n",
        "        super().__init__()\r\n",
        "        self.mapping = nn.Sequential(\r\n",
        "            # Please write a neural network which takes in tensors of \r\n",
        "            # shape (n_samples, z_dim) and outputs (n_samples, w_dim)\r\n",
        "            # with a hidden layer with hidden_dim neurons\r\n",
        "            #### START CODE HERE ####\r\n",
        "            nn.Linear(in_features = z_dim, out_features = hidden_dim),\r\n",
        "            nn.ReLU(),\r\n",
        "            nn.Linear(in_features = hidden_dim, out_features = hidden_dim),\r\n",
        "            nn.ReLU(),\r\n",
        "            nn.Linear(in_features = hidden_dim, out_features = w_dim)\r\n",
        "            #### END CODE HERE ####\r\n",
        "        )\r\n",
        "\r\n",
        "    def forward(self, noise):\r\n",
        "        '''\r\n",
        "        Function for completing a forward pass of MappingLayers: \r\n",
        "        Given an initial noise tensor, returns the intermediate noise tensor.\r\n",
        "        Parameters:\r\n",
        "            noise: a noise tensor with dimensions (n_samples, z_dim)\r\n",
        "        '''\r\n",
        "        return self.mapping(noise)\r\n",
        "    \r\n",
        "    #UNIT TEST COMMENT: Required for grading\r\n",
        "    def get_mapping(self):\r\n",
        "        return self.mapping"
      ],
      "execution_count": null,
      "outputs": []
    },
    {
      "cell_type": "code",
      "metadata": {
        "colab": {
          "base_uri": "https://localhost:8080/"
        },
        "id": "3N2f_FtylbEW",
        "outputId": "6be0b82a-d255-49fd-fcc0-0295e9a0b0d2"
      },
      "source": [
        "# Test the mapping function\r\n",
        "map_fn = MappingLayers(10,20,30)\r\n",
        "assert tuple(map_fn(torch.randn(2, 10)).shape) == (2, 30)\r\n",
        "assert len(map_fn.mapping) > 4\r\n",
        "outputs = map_fn(torch.randn(1000, 10))\r\n",
        "assert outputs.std() > 0.05 and outputs.std() < 0.3\r\n",
        "assert outputs.min() > -2 and outputs.min() < 0\r\n",
        "assert outputs.max() < 2 and outputs.max() > 0\r\n",
        "layers = [str(x) for x in map_fn.get_mapping()]\r\n",
        "assert layers == ['Linear(in_features=10, out_features=20, bias=True)', \r\n",
        "                  'ReLU()', \r\n",
        "                  'Linear(in_features=20, out_features=20, bias=True)', \r\n",
        "                  'ReLU()', \r\n",
        "                  'Linear(in_features=20, out_features=30, bias=True)']\r\n",
        "print(\"Success!\")"
      ],
      "execution_count": null,
      "outputs": [
        {
          "output_type": "stream",
          "text": [
            "Success!\n"
          ],
          "name": "stdout"
        }
      ]
    },
    {
      "cell_type": "markdown",
      "metadata": {
        "id": "kFykOKxcrGS_"
      },
      "source": [
        "##Random Noise Injection\r\n",
        "Next, you will implement the random noise injection that occurs before every AdaIN block. To do this, you need to create a noise tensor that is the same size as the current feature map (image).\r\n",
        "\r\n",
        "The noise tensor is not entirely random; it is initialized as one random channel that is then multiplied by learned weights for each channel in the image. For example, imagine an image has 512 channels and its height and width are (4 x 4). You would first create a random (4 x 4) noise matrix with one channel. Then, your model would create 512 values—one for each channel. Next, you multiply the (4 x 4) matrix by each one of these values. This creates a \"random\" tensor of 512 channels and (4 x 4) pixels, the same dimensions as the image. Finally, you add this noise tensor to the image. This introduces uncorrelated noise and is meant to increase the diversity in the image.\r\n",
        "\r\n",
        "New starting weights are generated for every new layer, or generator, where this class is used. Within a layer, every following time the noise injection is called, you take another step with the optimizer and the weights that you use for each channel are optimized (i.e. learned)."
      ]
    },
    {
      "cell_type": "code",
      "metadata": {
        "id": "WucHWyvvzTLV"
      },
      "source": [
        "# UNQ_C3 (UNIQUE CELL IDENTIFIER, DO NOT EDIT)\r\n",
        "# GRADED CELL: InjectNoise\r\n",
        "\r\n",
        "class InjectNoise(nn.Module):\r\n",
        "    '''\r\n",
        "    Inject Noise Class\r\n",
        "    Values:\r\n",
        "        channels: the number of channels the image has, a scalar\r\n",
        "    '''\r\n",
        "    def __init__(self, channels):\r\n",
        "        super().__init__()\r\n",
        "        self.weight = nn.Parameter( # You use nn.Parameter so that these weights can be optimized\r\n",
        "            # Initiate the weights for the channels from a random normal distribution\r\n",
        "            #### START CODE HERE ####\r\n",
        "            torch.randn((1,channels,1,1)), requires_grad=True#torch.randn((channels))[None,:,None, None]\r\n",
        "            #### END CODE HERE ####\r\n",
        "        )\r\n",
        "\r\n",
        "    def forward(self, image):\r\n",
        "        '''\r\n",
        "        Function for completing a forward pass of InjectNoise: Given an image, \r\n",
        "        returns the image with random noise added.\r\n",
        "        Parameters:\r\n",
        "            image: the feature map of shape (n_samples, channels, width, height)\r\n",
        "        '''\r\n",
        "        # Set the appropriate shape for the noise!\r\n",
        "        \r\n",
        "        #### START CODE HERE ####\r\n",
        "        noise_shape = (image.shape[0], 1,image.shape[2],image.shape[3])\r\n",
        "        #### END CODE HERE ####\r\n",
        "        \r\n",
        "        noise = torch.randn(noise_shape, device=image.device) # Creates the random noise\r\n",
        "        return image + self.weight * noise # Applies to image after multiplying by the weight for each channel\r\n",
        "    \r\n",
        "    #UNIT TEST COMMENT: Required for grading\r\n",
        "    def get_weight(self):\r\n",
        "        return self.weight\r\n",
        "    \r\n",
        "    #UNIT TEST COMMENT: Required for grading\r\n",
        "    def get_self(self):\r\n",
        "        return self\r\n",
        "    "
      ],
      "execution_count": null,
      "outputs": []
    },
    {
      "cell_type": "code",
      "metadata": {
        "colab": {
          "base_uri": "https://localhost:8080/"
        },
        "id": "QzC36F2QsZt8",
        "outputId": "35f85df2-88f7-42fd-8c1f-4216fac9fe27"
      },
      "source": [
        "# UNIT TEST\r\n",
        "test_noise_channels = 3000\r\n",
        "test_noise_samples = 20\r\n",
        "fake_images = torch.randn(test_noise_samples, test_noise_channels, 10, 10)\r\n",
        "inject_noise = InjectNoise(test_noise_channels)\r\n",
        "assert torch.abs(inject_noise.weight.std() - 1) < 0.1\r\n",
        "assert torch.abs(inject_noise.weight.mean()) < 0.1\r\n",
        "assert type(inject_noise.get_weight()) == torch.nn.parameter.Parameter\r\n",
        "\r\n",
        "assert tuple(inject_noise.weight.shape) == (1, test_noise_channels, 1, 1)\r\n",
        "inject_noise.weight = nn.Parameter(torch.ones_like(inject_noise.weight))\r\n",
        "# Check that something changed\r\n",
        "assert torch.abs((inject_noise(fake_images) - fake_images)).mean() > 0.1\r\n",
        "# Check that the change is per-channel\r\n",
        "assert torch.abs((inject_noise(fake_images) - fake_images).std(0)).mean() > 1e-4\r\n",
        "#assert torch.abs((inject_noise(fake_images) - fake_images).std(1)).mean() < 1e-4\r\n",
        "assert torch.abs((inject_noise(fake_images) - fake_images).std(2)).mean() > 1e-4\r\n",
        "assert torch.abs((inject_noise(fake_images) - fake_images).std(3)).mean() > 1e-4\r\n",
        "# Check that the per-channel change is roughly normal\r\n",
        "per_channel_change = (inject_noise(fake_images) - fake_images).mean(1).std()\r\n",
        "assert per_channel_change > 0.9 and per_channel_change < 1.1\r\n",
        "# Make sure that the weights are being used at all\r\n",
        "inject_noise.weight = nn.Parameter(torch.zeros_like(inject_noise.weight))\r\n",
        "assert torch.abs((inject_noise(fake_images) - fake_images)).mean() < 1e-4\r\n",
        "assert len(inject_noise.weight.shape) == 4\r\n",
        "print(\"Success!\")"
      ],
      "execution_count": null,
      "outputs": [
        {
          "output_type": "stream",
          "text": [
            "Success!\n"
          ],
          "name": "stdout"
        }
      ]
    },
    {
      "cell_type": "markdown",
      "metadata": {
        "id": "h31u5HyhZIWo"
      },
      "source": [
        "##Adaptive Instance Normalization (AdaIN)\r\n",
        "The next component you will implement is AdaIN. To increase control over the image, you inject  𝑤  — the intermediate noise vector — multiple times throughout StyleGAN. This is done by transforming it into a set of style parameters and introducing the style to the image through AdaIN. Given an image ( 𝑥𝑖 ) and the intermediate vector ( 𝑤 ), AdaIN takes the instance normalization of the image and multiplies it by the style scale ( 𝑦𝑠 ) and adds the style bias ( 𝑦𝑏 ). You need to calculate the learnable style scale and bias by using linear mappings from  𝑤 .\r\n"
      ]
    },
    {
      "cell_type": "markdown",
      "metadata": {
        "id": "UxykEAL-ZSgM"
      },
      "source": [
        "![image.png](data:image/png;base64,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)"
      ]
    },
    {
      "cell_type": "code",
      "metadata": {
        "id": "RJtqYuNwZs35"
      },
      "source": [
        "# UNQ_C4 (UNIQUE CELL IDENTIFIER, DO NOT EDIT)\r\n",
        "# GRADED CELL: AdaIN\r\n",
        "\r\n",
        "class AdaIN(nn.Module):\r\n",
        "    '''\r\n",
        "    AdaIN Class\r\n",
        "    Values:\r\n",
        "        channels: the number of channels the image has, a scalar\r\n",
        "        w_dim: the dimension of the intermediate noise vector, a scalar\r\n",
        "    '''\r\n",
        "\r\n",
        "    def __init__(self, channels, w_dim):\r\n",
        "        super().__init__()\r\n",
        "\r\n",
        "        # Normalize the input per-dimension\r\n",
        "        self.instance_norm = nn.InstanceNorm2d(channels)\r\n",
        "\r\n",
        "        # You want to map w to a set of style weights per channel.\r\n",
        "        # Replace the Nones with the correct dimensions - keep in mind that \r\n",
        "        # both linear maps transform a w vector into style weights \r\n",
        "        # corresponding to the number of image channels.\r\n",
        "        #### START CODE HERE ####\r\n",
        "        self.style_scale_transform = nn.Linear(w_dim, channels)\r\n",
        "        self.style_shift_transform = nn.Linear(w_dim, channels)\r\n",
        "        #### END CODE HERE ####\r\n",
        "\r\n",
        "    def forward(self, image, w):\r\n",
        "        '''\r\n",
        "        Function for completing a forward pass of AdaIN: Given an image and intermediate noise vector w, \r\n",
        "        returns the normalized image that has been scaled and shifted by the style.\r\n",
        "        Parameters:\r\n",
        "            image: the feature map of shape (n_samples, channels, width, height)\r\n",
        "            w: the intermediate noise vector\r\n",
        "        '''\r\n",
        "        normalized_image = self.instance_norm(image)\r\n",
        "        style_scale = self.style_scale_transform(w)[:, :, None, None]\r\n",
        "        style_shift = self.style_shift_transform(w)[:, :, None, None]\r\n",
        "        \r\n",
        "        # Calculate the transformed image\r\n",
        "        #### START CODE HERE ####\r\n",
        "        transformed_image = style_scale*normalized_image+style_shift\r\n",
        "        #### END CODE HERE ####\r\n",
        "        return transformed_image\r\n",
        "    \r\n",
        "    #UNIT TEST COMMENT: Required for grading\r\n",
        "    def get_style_scale_transform(self):\r\n",
        "        return self.style_scale_transform\r\n",
        "    \r\n",
        "    #UNIT TEST COMMENT: Required for grading\r\n",
        "    def get_style_shift_transform(self):\r\n",
        "        return self.style_shift_transform\r\n",
        "    \r\n",
        "    #UNIT TEST COMMENT: Required for grading\r\n",
        "    def get_self(self):\r\n",
        "        return self \r\n"
      ],
      "execution_count": null,
      "outputs": []
    },
    {
      "cell_type": "code",
      "metadata": {
        "colab": {
          "base_uri": "https://localhost:8080/"
        },
        "id": "DNvaEiBXZsuT",
        "outputId": "63ece67f-a317-410e-f838-89871e04ffa9"
      },
      "source": [
        "w_channels = 50\r\n",
        "image_channels = 20\r\n",
        "image_size = 30\r\n",
        "n_test = 10\r\n",
        "adain = AdaIN(image_channels, w_channels)\r\n",
        "test_w = torch.randn(n_test, w_channels)\r\n",
        "assert adain.style_scale_transform(test_w).shape == adain.style_shift_transform(test_w).shape\r\n",
        "assert adain.style_scale_transform(test_w).shape[-1] == image_channels\r\n",
        "assert tuple(adain(torch.randn(n_test, image_channels, image_size, image_size), test_w).shape) == (n_test, image_channels, image_size, image_size)\r\n",
        "\r\n",
        "w_channels = 3\r\n",
        "image_channels = 2\r\n",
        "image_size = 3\r\n",
        "n_test = 1\r\n",
        "adain = AdaIN(image_channels, w_channels)\r\n",
        "\r\n",
        "adain.style_scale_transform.weight.data = torch.ones_like(adain.style_scale_transform.weight.data) / 4\r\n",
        "adain.style_scale_transform.bias.data = torch.zeros_like(adain.style_scale_transform.bias.data)\r\n",
        "adain.style_shift_transform.weight.data = torch.ones_like(adain.style_shift_transform.weight.data) / 5\r\n",
        "adain.style_shift_transform.bias.data = torch.zeros_like(adain.style_shift_transform.bias.data)\r\n",
        "test_input = torch.ones(n_test, image_channels, image_size, image_size)\r\n",
        "test_input[:, :, 0] = 0\r\n",
        "test_w = torch.ones(n_test, w_channels)\r\n",
        "test_output = adain(test_input, test_w)\r\n",
        "assert(torch.abs(test_output[0, 0, 0, 0] - 3 / 5 + torch.sqrt(torch.tensor(9 / 8))) < 1e-4)\r\n",
        "assert(torch.abs(test_output[0, 0, 1, 0] - 3 / 5 - torch.sqrt(torch.tensor(9 / 32))) < 1e-4)\r\n",
        "print(\"Success!\")"
      ],
      "execution_count": null,
      "outputs": [
        {
          "output_type": "stream",
          "text": [
            "Success!\n"
          ],
          "name": "stdout"
        }
      ]
    },
    {
      "cell_type": "markdown",
      "metadata": {
        "id": "o_7AXv6Vdmn9"
      },
      "source": [
        "##Progressive Growing in StyleGAN\r\n",
        "The final StyleGAN component that you will create is progressive growing. This helps StyleGAN to create high resolution images by gradually doubling the image's size until the desired size.\r\n",
        "\r\n",
        "You will start by creating a block for the StyleGAN generator. This is comprised of an upsampling layer, a convolutional layer, random noise injection, an AdaIN layer, and an activation."
      ]
    },
    {
      "cell_type": "code",
      "metadata": {
        "id": "RKO5d8zEd7RJ"
      },
      "source": [
        "# UNQ_C5 (UNIQUE CELL IDENTIFIER, DO NOT EDIT)\r\n",
        "# GRADED CELL: MicroStyleGANGeneratorBlock\r\n",
        "\r\n",
        "class MicroStyleGANGeneratorBlock(nn.Module):\r\n",
        "    '''\r\n",
        "    Micro StyleGAN Generator Block Class\r\n",
        "    Values:\r\n",
        "        in_chan: the number of channels in the input, a scalar\r\n",
        "        out_chan: the number of channels wanted in the output, a scalar\r\n",
        "        w_dim: the dimension of the intermediate noise vector, a scalar\r\n",
        "        kernel_size: the size of the convolving kernel\r\n",
        "        starting_size: the size of the starting image\r\n",
        "    '''\r\n",
        "\r\n",
        "    def __init__(self, in_chan, out_chan, w_dim, kernel_size, starting_size, use_upsample=True):\r\n",
        "        super().__init__()\r\n",
        "        self.use_upsample = use_upsample\r\n",
        "        # Replace the Nones in order to:\r\n",
        "        # 1. Upsample to the starting_size, bilinearly (https://pytorch.org/docs/master/generated/torch.nn.Upsample.html)\r\n",
        "        # 2. Create a kernel_size convolution which takes in \r\n",
        "        #    an image with in_chan and outputs one with out_chan (https://pytorch.org/docs/stable/generated/torch.nn.Conv2d.html)\r\n",
        "        # 3. Create an object to inject noise\r\n",
        "        # 4. Create an AdaIN object\r\n",
        "        # 5. Create a LeakyReLU activation with slope 0.2\r\n",
        "        \r\n",
        "        #### START CODE HERE ####\r\n",
        "        if self.use_upsample:\r\n",
        "            self.upsample = nn.Upsample((starting_size, starting_size), mode='bilinear')\r\n",
        "        self.conv = nn.Conv2d(in_chan, out_chan, kernel_size, padding=1) # Padding is used to maintain the image size\r\n",
        "        self.inject_noise = InjectNoise(out_chan)\r\n",
        "        self.adain = AdaIN(out_chan, w_dim)\r\n",
        "        self.activation = nn.LeakyReLU(0.2)\r\n",
        "        #### END CODE HERE ####\r\n",
        "\r\n",
        "    def forward(self, x, w):\r\n",
        "        '''\r\n",
        "        Function for completing a forward pass of MicroStyleGANGeneratorBlock: Given an x and w, \r\n",
        "        computes a StyleGAN generator block.\r\n",
        "        Parameters:\r\n",
        "            x: the input into the generator, feature map of shape (n_samples, channels, width, height)\r\n",
        "            w: the intermediate noise vector\r\n",
        "        '''\r\n",
        "        if self.use_upsample:\r\n",
        "            x = self.upsample(x)\r\n",
        "        x = self.conv(x)\r\n",
        "        x = self.inject_noise(x)\r\n",
        "        x = self.activation(x)\r\n",
        "        x = self.adain(x, w)\r\n",
        "        return x\r\n",
        "    \r\n",
        "    #UNIT TEST COMMENT: Required for grading\r\n",
        "    def get_self(self):\r\n",
        "        return self;"
      ],
      "execution_count": null,
      "outputs": []
    },
    {
      "cell_type": "code",
      "metadata": {
        "colab": {
          "base_uri": "https://localhost:8080/"
        },
        "id": "yU9l68cxd7EY",
        "outputId": "cfdff2a1-eafd-4390-8223-6ff696e8aad8"
      },
      "source": [
        "test_stylegan_block = MicroStyleGANGeneratorBlock(in_chan=128, out_chan=64, w_dim=256, kernel_size=3, starting_size=8)\r\n",
        "test_x = torch.ones(1, 128, 4, 4)\r\n",
        "test_x[:, :, 1:3, 1:3] = 0\r\n",
        "test_w = torch.ones(1, 256)\r\n",
        "test_x = test_stylegan_block.upsample(test_x)\r\n",
        "assert tuple(test_x.shape) == (1, 128, 8, 8)\r\n",
        "assert torch.abs(test_x.mean() - 0.75) < 1e-4\r\n",
        "test_x = test_stylegan_block.conv(test_x)\r\n",
        "assert tuple(test_x.shape) == (1, 64, 8, 8)\r\n",
        "test_x = test_stylegan_block.inject_noise(test_x)\r\n",
        "test_x = test_stylegan_block.activation(test_x)\r\n",
        "assert test_x.min() < 0\r\n",
        "assert -test_x.min() / test_x.max() < 0.4\r\n",
        "test_x = test_stylegan_block.adain(test_x, test_w) \r\n",
        "foo = test_stylegan_block(torch.ones(10, 128, 4, 4), torch.ones(10, 256))\r\n",
        "\r\n",
        "print(\"Success!\")"
      ],
      "execution_count": null,
      "outputs": [
        {
          "output_type": "stream",
          "text": [
            "Success!\n"
          ],
          "name": "stdout"
        },
        {
          "output_type": "stream",
          "text": [
            "/usr/local/lib/python3.6/dist-packages/torch/nn/functional.py:3063: UserWarning: Default upsampling behavior when mode=bilinear is changed to align_corners=False since 0.4.0. Please specify align_corners=True if the old behavior is desired. See the documentation of nn.Upsample for details.\n",
            "  \"See the documentation of nn.Upsample for details.\".format(mode))\n"
          ],
          "name": "stderr"
        }
      ]
    },
    {
      "cell_type": "markdown",
      "metadata": {
        "id": "-iJ8OL0EnT9p"
      },
      "source": [
        "Now, you can implement progressive growing.\r\n",
        "\r\n",
        "StyleGAN starts with a constant 4 x 4 (x 512 channel) tensor which is put through an iteration of the generator without upsampling. The output is some noise that can then be transformed into a blurry 4 x 4 image. This is where the progressive growing process begins. The 4 x 4 noise can be further passed through a generator block with upsampling to produce an 8 x 8 output. However, this will be done gradually.\r\n",
        "\r\n",
        "You will simulate progressive growing from an 8 x 8 image to a 16 x 16 image. Instead of simply passing it to the generator block with upsampling, StyleGAN gradually trains the generator to the new size by mixing in an image that was only upsampled. By mixing an upsampled 8 x 8 image (which is 16 x 16) with increasingly more of the 16 x 16 generator output, the generator is more stable as it progressively trains. As such, you will do two separate operations with the 8 x 8 noise:\r\n",
        "\r\n",
        "* Pass it into the next generator block to create an output noise, that you will then transform to an image.\r\n",
        "* Transform it into an image and then upsample it to be 16 x 16.\r\n",
        "\r\n",
        "You will now have two images that are both double the resolution of the 8 x 8 noise. Then, using an alpha ( 𝛼 ) term, you combine the higher resolution images obtained from (1) and (2). You would then pass this into the discriminator and use the feedback to update the weights of your generator. The key here is that the  𝛼  term is gradually increased until eventually, only the image from (1), the generator, is used. That is your final image or you could continue this process to make a 32 x 32 image or 64 x 64, 128 x 128, etc.\r\n",
        "\r\n",
        "This micro model you will implement will visualize what the model outputs at a particular stage of training, for a specific value of  𝛼 . However to reiterate, in practice, StyleGAN will slowly phase out the upsampled image by increasing the  𝛼  parameter over many training steps, doing this process repeatedly with larger and larger alpha values until it is 1—at this point, the combined image is solely comprised of the image from the generator block. This method of gradually training the generator increases the stability and fidelity of the model."
      ]
    },
    {
      "cell_type": "code",
      "metadata": {
        "id": "XjKOYiQ2nc2m"
      },
      "source": [
        "# UNQ_C6 (UNIQUE CELL IDENTIFIER, DO NOT EDIT)\r\n",
        "# GRADED CELL: MicroStyleGANGenerator\r\n",
        "\r\n",
        "class MicroStyleGANGenerator(nn.Module):\r\n",
        "    '''\r\n",
        "    Micro StyleGAN Generator Class\r\n",
        "    Values:\r\n",
        "        z_dim: the dimension of the noise vector, a scalar\r\n",
        "        map_hidden_dim: the mapping inner dimension, a scalar\r\n",
        "        w_dim: the dimension of the intermediate noise vector, a scalar\r\n",
        "        in_chan: the dimension of the constant input, usually w_dim, a scalar\r\n",
        "        out_chan: the number of channels wanted in the output, a scalar\r\n",
        "        kernel_size: the size of the convolving kernel\r\n",
        "        hidden_chan: the inner dimension, a scalar\r\n",
        "    '''\r\n",
        "\r\n",
        "    def __init__(self, \r\n",
        "                 z_dim, \r\n",
        "                 map_hidden_dim,\r\n",
        "                 w_dim,\r\n",
        "                 in_chan,\r\n",
        "                 out_chan, \r\n",
        "                 kernel_size, \r\n",
        "                 hidden_chan):\r\n",
        "        super().__init__()\r\n",
        "        self.map = MappingLayers(z_dim, map_hidden_dim, w_dim)\r\n",
        "        # Typically this constant is initiated to all ones, but you will initiate to a\r\n",
        "        # Gaussian to better visualize the network's effect\r\n",
        "        self.starting_constant = nn.Parameter(torch.randn(1, in_chan, 4, 4))\r\n",
        "        self.block0 = MicroStyleGANGeneratorBlock(in_chan, hidden_chan, w_dim, kernel_size, 4, use_upsample=False)\r\n",
        "        self.block1 = MicroStyleGANGeneratorBlock(hidden_chan, hidden_chan, w_dim, kernel_size, 8)\r\n",
        "        self.block2 = MicroStyleGANGeneratorBlock(hidden_chan, hidden_chan, w_dim, kernel_size, 16)\r\n",
        "        # You need to have a way of mapping from the output noise to an image, \r\n",
        "        # so you learn a 1x1 convolution to transform the e.g. 512 channels into 3 channels\r\n",
        "        # (Note that this is simplified, with clipping used in the real StyleGAN)\r\n",
        "        self.block1_to_image = nn.Conv2d(hidden_chan, out_chan, kernel_size=1)\r\n",
        "        self.block2_to_image = nn.Conv2d(hidden_chan, out_chan, kernel_size=1)\r\n",
        "        self.alpha = 0.2\r\n",
        "\r\n",
        "    def upsample_to_match_size(self, smaller_image, bigger_image):\r\n",
        "        '''\r\n",
        "        Function for upsampling an image to the size of another: Given a two images (smaller and bigger), \r\n",
        "        upsamples the first to have the same dimensions as the second.\r\n",
        "        Parameters:\r\n",
        "            smaller_image: the smaller image to upsample\r\n",
        "            bigger_image: the bigger image whose dimensions will be upsampled to\r\n",
        "        '''\r\n",
        "        return F.interpolate(smaller_image, size=bigger_image.shape[-2:], mode='bilinear')\r\n",
        "\r\n",
        "    def forward(self, noise, return_intermediate=False):\r\n",
        "        '''\r\n",
        "        Function for completing a forward pass of MicroStyleGANGenerator: Given noise, \r\n",
        "        computes a StyleGAN iteration.\r\n",
        "        Parameters:\r\n",
        "            noise: a noise tensor with dimensions (n_samples, z_dim)\r\n",
        "            return_intermediate: a boolean, true to return the images as well (for testing) and false otherwise\r\n",
        "        '''\r\n",
        "        x = self.starting_constant\r\n",
        "        w = self.map(noise)\r\n",
        "        x = self.block0(x, w)\r\n",
        "        x_small = self.block1(x, w) # First generator run output\r\n",
        "        x_small_image = self.block1_to_image(x_small)\r\n",
        "        x_big = self.block2(x_small, w) # Second generator run output \r\n",
        "        x_big_image = self.block2_to_image(x_big)\r\n",
        "        x_small_upsample = self.upsample_to_match_size(x_small_image, x_big_image) # Upsample first generator run output to be same size as second generator run output \r\n",
        "        # Interpolate between the upsampled image and the image from the generator using alpha\r\n",
        "        \r\n",
        "        #### START CODE HERE ####\r\n",
        "        interpolation = torch.lerp(x_small_upsample, x_big_image, self.alpha) #(x_small_upsample, x_big_image, scale_factor=None)\r\n",
        "        #### END CODE HERE #### \r\n",
        "        \r\n",
        "        if return_intermediate:\r\n",
        "            return interpolation, x_small_upsample, x_big_image\r\n",
        "        return interpolation\r\n",
        "    \r\n",
        "    #UNIT TEST COMMENT: Required for grading\r\n",
        "    def get_self(self):\r\n",
        "        return self;"
      ],
      "execution_count": null,
      "outputs": []
    },
    {
      "cell_type": "code",
      "metadata": {
        "id": "MhA6EaKzZsfW",
        "colab": {
          "base_uri": "https://localhost:8080/",
          "height": 282
        },
        "outputId": "34a4368b-87a7-477c-d26d-cd2cbb5dacf9"
      },
      "source": [
        "z_dim = 128\r\n",
        "out_chan = 3\r\n",
        "truncation = 0.7\r\n",
        "\r\n",
        "mu_stylegan = MicroStyleGANGenerator(\r\n",
        "    z_dim=z_dim, \r\n",
        "    map_hidden_dim=1024,\r\n",
        "    w_dim=496,\r\n",
        "    in_chan=512,\r\n",
        "    out_chan=out_chan, \r\n",
        "    kernel_size=3, \r\n",
        "    hidden_chan=256\r\n",
        ")\r\n",
        "\r\n",
        "test_samples = 10\r\n",
        "test_result = mu_stylegan(get_truncated_noise(test_samples, z_dim, truncation))\r\n",
        "\r\n",
        "# Check if the block works\r\n",
        "assert tuple(test_result.shape) == (test_samples, out_chan, 16, 16)\r\n",
        "\r\n",
        "# Check that the interpolation is correct\r\n",
        "mu_stylegan.alpha = 1.\r\n",
        "test_result, _, test_big =  mu_stylegan(\r\n",
        "    get_truncated_noise(test_samples, z_dim, truncation), \r\n",
        "    return_intermediate=True)\r\n",
        "assert torch.abs(test_result - test_big).mean() < 0.001\r\n",
        "mu_stylegan.alpha = 0.\r\n",
        "test_result, test_small, _ =  mu_stylegan(\r\n",
        "    get_truncated_noise(test_samples, z_dim, truncation), \r\n",
        "    return_intermediate=True)\r\n",
        "assert torch.abs(test_result - test_small).mean() < 0.001\r\n",
        "print(\"Success!\")"
      ],
      "execution_count": null,
      "outputs": [
        {
          "output_type": "stream",
          "text": [
            "/usr/local/lib/python3.6/dist-packages/torch/nn/functional.py:3063: UserWarning: Default upsampling behavior when mode=bilinear is changed to align_corners=False since 0.4.0. Please specify align_corners=True if the old behavior is desired. See the documentation of nn.Upsample for details.\n",
            "  \"See the documentation of nn.Upsample for details.\".format(mode))\n"
          ],
          "name": "stderr"
        },
        {
          "output_type": "error",
          "ename": "AssertionError",
          "evalue": "ignored",
          "traceback": [
            "\u001b[0;31m---------------------------------------------------------------------------\u001b[0m",
            "\u001b[0;31mAssertionError\u001b[0m                            Traceback (most recent call last)",
            "\u001b[0;32m<ipython-input-23-25208f7ee144>\u001b[0m in \u001b[0;36m<module>\u001b[0;34m()\u001b[0m\n\u001b[1;32m     24\u001b[0m     \u001b[0mget_truncated_noise\u001b[0m\u001b[0;34m(\u001b[0m\u001b[0mtest_samples\u001b[0m\u001b[0;34m,\u001b[0m \u001b[0mz_dim\u001b[0m\u001b[0;34m,\u001b[0m \u001b[0mtruncation\u001b[0m\u001b[0;34m)\u001b[0m\u001b[0;34m,\u001b[0m\u001b[0;34m\u001b[0m\u001b[0;34m\u001b[0m\u001b[0m\n\u001b[1;32m     25\u001b[0m     return_intermediate=True)\n\u001b[0;32m---> 26\u001b[0;31m \u001b[0;32massert\u001b[0m \u001b[0mtorch\u001b[0m\u001b[0;34m.\u001b[0m\u001b[0mabs\u001b[0m\u001b[0;34m(\u001b[0m\u001b[0mtest_result\u001b[0m \u001b[0;34m-\u001b[0m \u001b[0mtest_big\u001b[0m\u001b[0;34m)\u001b[0m\u001b[0;34m.\u001b[0m\u001b[0mmean\u001b[0m\u001b[0;34m(\u001b[0m\u001b[0;34m)\u001b[0m \u001b[0;34m<\u001b[0m \u001b[0;36m0.001\u001b[0m\u001b[0;34m\u001b[0m\u001b[0;34m\u001b[0m\u001b[0m\n\u001b[0m\u001b[1;32m     27\u001b[0m \u001b[0mmu_stylegan\u001b[0m\u001b[0;34m.\u001b[0m\u001b[0malpha\u001b[0m \u001b[0;34m=\u001b[0m \u001b[0;36m0.\u001b[0m\u001b[0;34m\u001b[0m\u001b[0;34m\u001b[0m\u001b[0m\n\u001b[1;32m     28\u001b[0m test_result, test_small, _ =  mu_stylegan(\n",
            "\u001b[0;31mAssertionError\u001b[0m: "
          ]
        }
      ]
    },
    {
      "cell_type": "markdown",
      "metadata": {
        "id": "L3jJdZ7enlr1"
      },
      "source": [
        "##Running StyleGAN\r\n",
        "Finally, you can put all the components together to run an iteration of your micro StyleGAN!\r\n",
        "\r\n",
        "You can also visualize what this randomly initiated generator can produce. The code will automatically interpolate between different values of alpha so that you can intuitively see what it means to mix the low-resolution and high-resolution images using different values of alpha. In the generated image, the samples start from low alpha values and go to high alpha values.\r\n",
        "\r\n"
      ]
    },
    {
      "cell_type": "code",
      "metadata": {
        "id": "irh6j9NtzTHB",
        "colab": {
          "base_uri": "https://localhost:8080/",
          "height": 502
        },
        "outputId": "1dfe9cf2-d847-4d15-96fe-fcdd09c7fcaa"
      },
      "source": [
        "import numpy as np\r\n",
        "from torchvision.utils import make_grid\r\n",
        "import matplotlib.pyplot as plt\r\n",
        "plt.rcParams['figure.figsize'] = [15, 15]\r\n",
        "\r\n",
        "viz_samples = 10\r\n",
        "# The noise is exaggerated for visual effect\r\n",
        "viz_noise = get_truncated_noise(viz_samples, z_dim, truncation) * 10\r\n",
        "\r\n",
        "mu_stylegan.eval()\r\n",
        "images = []\r\n",
        "for alpha in np.linspace(0, 1, num=5):\r\n",
        "    mu_stylegan.alpha = alpha\r\n",
        "    viz_result, _, _ =  mu_stylegan(\r\n",
        "        viz_noise, \r\n",
        "        return_intermediate=True)\r\n",
        "    images += [tensor for tensor in viz_result]\r\n",
        "show_tensor_images(torch.stack(images), nrow=viz_samples, num_images=len(images))\r\n",
        "mu_stylegan = mu_stylegan.train()"
      ],
      "execution_count": null,
      "outputs": [
        {
          "output_type": "stream",
          "text": [
            "/usr/local/lib/python3.6/dist-packages/torch/nn/functional.py:3063: UserWarning: Default upsampling behavior when mode=bilinear is changed to align_corners=False since 0.4.0. Please specify align_corners=True if the old behavior is desired. See the documentation of nn.Upsample for details.\n",
            "  \"See the documentation of nn.Upsample for details.\".format(mode))\n"
          ],
          "name": "stderr"
        },
        {
          "output_type": "display_data",
          "data": {
            "image/png": "[encoded data removed]",
            "text/plain": [
              "<Figure size 1080x1080 with 1 Axes>"
            ]
          },
          "metadata": {
            "tags": [],
            "needs_background": "light"
          }
        }
      ]
    },
    {
      "cell_type": "code",
      "metadata": {
        "id": "g9m1DDrezTDA"
      },
      "source": [
        ""
      ],
      "execution_count": null,
      "outputs": []
    },
    {
      "cell_type": "code",
      "metadata": {
        "id": "erk4Zjv7zSzK"
      },
      "source": [
        ""
      ],
      "execution_count": null,
      "outputs": []
    }
  ]
}