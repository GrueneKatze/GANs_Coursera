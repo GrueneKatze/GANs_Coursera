{
  "nbformat": 4,
  "nbformat_minor": 0,
  "metadata": {
    "colab": {
      "name": "C2W2_Bias",
      "provenance": [],
      "collapsed_sections": [],
      "include_colab_link": true
    },
    "kernelspec": {
      "name": "python3",
      "display_name": "Python 3"
    },
    "accelerator": "GPU"
  },
  "cells": [
    {
      "cell_type": "markdown",
      "metadata": {
        "id": "view-in-github",
        "colab_type": "text"
      },
      "source": [
        "<a href=\"https://colab.research.google.com/github/GrueneKatze/GANs_Coursera/blob/main/C2W2_Bias.ipynb\" target=\"_parent\"><img src=\"https://colab.research.google.com/assets/colab-badge.svg\" alt=\"Open In Colab\"/></a>"
      ]
    },
    {
      "cell_type": "markdown",
      "metadata": {
        "id": "2bFRXfdmz5aN"
      },
      "source": [
        "#Bias"
      ]
    },
    {
      "cell_type": "markdown",
      "metadata": {
        "id": "jWOsZbApePWU"
      },
      "source": [
        "##Goals\r\n",
        "In this notebook, you're going to explore a way to identify some biases of a GAN using a classifier, in a way that's well-suited for attempting to make a model independent of an input. Note that not all biases are as obvious as the ones you will see here.\r\n",
        "\r\n",
        "##Learning Objectives\r\n",
        "1. Be able to distinguish a few different kinds of bias in terms of demographic parity, equality of odds, and equality of opportunity (as proposed here).\r\n",
        "2. Be able to use a classifier to try and detect biases in a GAN.\r\n",
        "\r\n",
        "##Challenges\r\n",
        "One major challenge in assessing bias in GANs is that you still want your generator to be able to generate examples of different values of a protected class—the class you would like to mitigate bias against. While a classifier can be optimized to have its output be independent of a protected class, a generator which generates faces should be able to generate examples of various protected class values.\r\n",
        "\r\n",
        "When you generate examples with various values of a protected class, you don’t want those examples to correspond to any properties that aren’t strictly a function of that protected class. This is made especially difficult since many protected classes (e.g. gender or ethnicity) are social constructs, and what properties count as “a function of that protected class” will vary depending on who you ask. It’s certainly a hard balance to strike.\r\n",
        "\r\n",
        "Moreover, a protected class is rarely used to condition a GAN explicitly, so it is often necessary to resort to somewhat post-hoc methods (e.g. using a classifier trained on relevant features, which might be biased itself).\r\n",
        "\r\n",
        "In this assignment, you will learn one approach to detect potential bias, by analyzing correlations in feature classifications on the generated images.\r\n",
        "\r\n",
        "##Getting Started\r\n",
        "As you have done previously, you will start by importing some useful libraries and defining a visualization function for your images. You will also use the same generator and basic classifier from previous weeks.\r\n",
        "\r\n",
        "###Packages and Visualization"
      ]
    },
    {
      "cell_type": "code",
      "metadata": {
        "id": "YZZUQDGX959v"
      },
      "source": [
        "import torch\r\n",
        "import numpy as np\r\n",
        "from torch import nn\r\n",
        "from tqdm.auto import tqdm\r\n",
        "from torchvision import transforms\r\n",
        "from torchvision.utils import make_grid\r\n",
        "from torchvision.datasets import CelebA\r\n",
        "from torch.utils.data import DataLoader\r\n",
        "import matplotlib.pyplot as plt\r\n",
        "torch.manual_seed(0) # Set for our testing purposes, please do not change!\r\n",
        "\r\n",
        "def show_tensor_images(image_tensor, num_images=16, size=(3, 64, 64), nrow=3):\r\n",
        "    '''\r\n",
        "    Function for visualizing images: Given a tensor of images, number of images,\r\n",
        "    size per image, and images per row, plots and prints the images in an uniform grid.\r\n",
        "    '''\r\n",
        "    image_tensor = (image_tensor + 1) / 2\r\n",
        "    image_unflat = image_tensor.detach().cpu()\r\n",
        "    image_grid = make_grid(image_unflat[:num_images], nrow=nrow)\r\n",
        "    plt.imshow(image_grid.permute(1, 2, 0).squeeze())\r\n",
        "    plt.show()"
      ],
      "execution_count": 1,
      "outputs": []
    },
    {
      "cell_type": "markdown",
      "metadata": {
        "id": "DCHHosfG-Lu1"
      },
      "source": [
        "###Generator and Noise"
      ]
    },
    {
      "cell_type": "code",
      "metadata": {
        "id": "VqqZgiqz-K2t"
      },
      "source": [
        "class Generator(nn.Module):\r\n",
        "    '''\r\n",
        "    Generator Class\r\n",
        "    Values:\r\n",
        "        z_dim: the dimension of the noise vector, a scalar\r\n",
        "        im_chan: the number of channels of the output image, a scalar\r\n",
        "              (CelebA is rgb, so 3 is your default)\r\n",
        "        hidden_dim: the inner dimension, a scalar\r\n",
        "    '''\r\n",
        "    def __init__(self, z_dim=10, im_chan=3, hidden_dim=64):\r\n",
        "        super(Generator, self).__init__()\r\n",
        "        self.z_dim = z_dim\r\n",
        "        # Build the neural network\r\n",
        "        self.gen = nn.Sequential(\r\n",
        "            self.make_gen_block(z_dim, hidden_dim * 8),\r\n",
        "            self.make_gen_block(hidden_dim * 8, hidden_dim * 4),\r\n",
        "            self.make_gen_block(hidden_dim * 4, hidden_dim * 2),\r\n",
        "            self.make_gen_block(hidden_dim * 2, hidden_dim),\r\n",
        "            self.make_gen_block(hidden_dim, im_chan, kernel_size=4, final_layer=True),\r\n",
        "        )\r\n",
        "\r\n",
        "    def make_gen_block(self, input_channels, output_channels, kernel_size=3, stride=2, final_layer=False):\r\n",
        "        '''\r\n",
        "        Function to return a sequence of operations corresponding to a generator block of DCGAN;\r\n",
        "        a transposed convolution, a batchnorm (except in the final layer), and an activation.\r\n",
        "        Parameters:\r\n",
        "            input_channels: how many channels the input feature representation has\r\n",
        "            output_channels: how many channels the output feature representation should have\r\n",
        "            kernel_size: the size of each convolutional filter, equivalent to (kernel_size, kernel_size)\r\n",
        "            stride: the stride of the convolution\r\n",
        "            final_layer: a boolean, true if it is the final layer and false otherwise \r\n",
        "                      (affects activation and batchnorm)\r\n",
        "        '''\r\n",
        "        if not final_layer:\r\n",
        "            return nn.Sequential(\r\n",
        "                nn.ConvTranspose2d(input_channels, output_channels, kernel_size, stride),\r\n",
        "                nn.BatchNorm2d(output_channels),\r\n",
        "                nn.ReLU(inplace=True),\r\n",
        "            )\r\n",
        "        else:\r\n",
        "            return nn.Sequential(\r\n",
        "                nn.ConvTranspose2d(input_channels, output_channels, kernel_size, stride),\r\n",
        "                nn.Tanh(),\r\n",
        "            )\r\n",
        "\r\n",
        "    def forward(self, noise):\r\n",
        "        '''\r\n",
        "        Function for completing a forward pass of the generator: Given a noise tensor, \r\n",
        "        returns generated images.\r\n",
        "        Parameters:\r\n",
        "            noise: a noise tensor with dimensions (n_samples, z_dim)\r\n",
        "        '''\r\n",
        "        x = noise.view(len(noise), self.z_dim, 1, 1)\r\n",
        "        return self.gen(x)\r\n",
        "\r\n",
        "def get_noise(n_samples, z_dim, device='cpu'):\r\n",
        "    '''\r\n",
        "    Function for creating noise vectors: Given the dimensions (n_samples, z_dim)\r\n",
        "    creates a tensor of that shape filled with random numbers from the normal distribution.\r\n",
        "    Parameters:\r\n",
        "        n_samples: the number of samples to generate, a scalar\r\n",
        "        z_dim: the dimension of the noise vector, a scalar\r\n",
        "        device: the device type\r\n",
        "    '''\r\n",
        "    return torch.randn(n_samples, z_dim, device=device)"
      ],
      "execution_count": null,
      "outputs": []
    },
    {
      "cell_type": "markdown",
      "metadata": {
        "id": "LXxU7V9i-ZxW"
      },
      "source": [
        "###Classifier"
      ]
    },
    {
      "cell_type": "code",
      "metadata": {
        "id": "khmwo-6V951T"
      },
      "source": [
        "class Classifier(nn.Module):\r\n",
        "    '''\r\n",
        "    Classifier Class\r\n",
        "    Values:\r\n",
        "        im_chan: the number of channels of the output image, a scalar\r\n",
        "              (CelebA is rgb, so 3 is your default)\r\n",
        "        n_classes: the total number of classes in the dataset, an integer scalar\r\n",
        "        hidden_dim: the inner dimension, a scalar\r\n",
        "    '''\r\n",
        "    def __init__(self, im_chan=3, n_classes=2, hidden_dim=64):\r\n",
        "        super(Classifier, self).__init__()\r\n",
        "        self.classifier = nn.Sequential(\r\n",
        "            self.make_classifier_block(im_chan, hidden_dim),\r\n",
        "            self.make_classifier_block(hidden_dim, hidden_dim * 2),\r\n",
        "            self.make_classifier_block(hidden_dim * 2, hidden_dim * 4, stride=3),\r\n",
        "            self.make_classifier_block(hidden_dim * 4, n_classes, final_layer=True),\r\n",
        "        )\r\n",
        "\r\n",
        "    def make_classifier_block(self, input_channels, output_channels, kernel_size=4, stride=2, final_layer=False):\r\n",
        "        '''\r\n",
        "        Function to return a sequence of operations corresponding to a classifier block; \r\n",
        "        a convolution, a batchnorm (except in the final layer), and an activation (except in the final layer).\r\n",
        "        Parameters:\r\n",
        "            input_channels: how many channels the input feature representation has\r\n",
        "            output_channels: how many channels the output feature representation should have\r\n",
        "            kernel_size: the size of each convolutional filter, equivalent to (kernel_size, kernel_size)\r\n",
        "            stride: the stride of the convolution\r\n",
        "            final_layer: a boolean, true if it is the final layer and false otherwise \r\n",
        "                      (affects activation and batchnorm)\r\n",
        "        '''\r\n",
        "        if not final_layer:\r\n",
        "            return nn.Sequential(\r\n",
        "                nn.Conv2d(input_channels, output_channels, kernel_size, stride),\r\n",
        "                nn.BatchNorm2d(output_channels),\r\n",
        "                nn.LeakyReLU(0.2, inplace=True),\r\n",
        "            )\r\n",
        "        else:\r\n",
        "            return nn.Sequential(\r\n",
        "                nn.Conv2d(input_channels, output_channels, kernel_size, stride),\r\n",
        "            )\r\n",
        "\r\n",
        "    def forward(self, image):\r\n",
        "        '''\r\n",
        "        Function for completing a forward pass of the classifier: Given an image tensor, \r\n",
        "        returns an n_classes-dimension tensor representing classes.\r\n",
        "        Parameters:\r\n",
        "            image: a flattened image tensor with im_chan channels\r\n",
        "        '''\r\n",
        "        class_pred = self.classifier(image)\r\n",
        "        return class_pred.view(len(class_pred), -1)"
      ],
      "execution_count": null,
      "outputs": []
    },
    {
      "cell_type": "markdown",
      "metadata": {
        "id": "XL6qLS1K-m_m"
      },
      "source": [
        "##Specifying Parameters\r\n",
        "You will also need to specify a few parameters before you begin training:\r\n",
        "\r\n",
        "* z_dim: the dimension of the noise vector\r\n",
        "* batch_size: the number of images per forward/backward pass\r\n",
        "* device: the device type"
      ]
    },
    {
      "cell_type": "code",
      "metadata": {
        "id": "ZN6ZfTNF95xp"
      },
      "source": [
        "z_dim = 64\r\n",
        "batch_size = 128\r\n",
        "device = 'cuda'"
      ],
      "execution_count": null,
      "outputs": []
    },
    {
      "cell_type": "markdown",
      "metadata": {
        "id": "Z1t247zv-x_y"
      },
      "source": [
        "##Train a Classifier (Optional)\r\n",
        "You're welcome to train your own classifier with this code, but you are provide a pre-trained one based on this architecture here which you can load and use in the next section."
      ]
    },
    {
      "cell_type": "code",
      "metadata": {
        "id": "uwvP_bDY95j2"
      },
      "source": [
        "# You can run this code to train your own classifier, but there is a provided pre-trained one \r\n",
        "# If you'd like to use this, just run \"train_classifier(filename)\"\r\n",
        "# To train and save a classifier on the label indices to that filename\r\n",
        "def train_classifier(filename):\r\n",
        "    import seaborn as sns\r\n",
        "    import matplotlib.pyplot as plt\r\n",
        "\r\n",
        "    # You're going to target all the classes, so that's how many the classifier will learn\r\n",
        "    label_indices = range(40)\r\n",
        "\r\n",
        "    n_epochs = 3\r\n",
        "    display_step = 500\r\n",
        "    lr = 0.001\r\n",
        "    beta_1 = 0.5\r\n",
        "    beta_2 = 0.999\r\n",
        "    image_size = 64\r\n",
        "\r\n",
        "    transform = transforms.Compose([\r\n",
        "        transforms.Resize(image_size),\r\n",
        "        transforms.CenterCrop(image_size),\r\n",
        "        transforms.ToTensor(),\r\n",
        "        transforms.Normalize((0.5, 0.5, 0.5), (0.5, 0.5, 0.5)),\r\n",
        "    ])\r\n",
        "\r\n",
        "    dataloader = DataLoader(\r\n",
        "        CelebA(\".\", split='train', download=True, transform=transform),\r\n",
        "        batch_size=batch_size,\r\n",
        "        shuffle=True)\r\n",
        "\r\n",
        "    classifier = Classifier(n_classes=len(label_indices)).to(device)\r\n",
        "    class_opt = torch.optim.Adam(classifier.parameters(), lr=lr, betas=(beta_1, beta_2))\r\n",
        "    criterion = nn.BCEWithLogitsLoss()\r\n",
        "\r\n",
        "    cur_step = 0\r\n",
        "    classifier_losses = []\r\n",
        "    # classifier_val_losses = []\r\n",
        "    for epoch in range(n_epochs):\r\n",
        "        # Dataloader returns the batches\r\n",
        "        for real, labels in tqdm(dataloader):\r\n",
        "            real = real.to(device)\r\n",
        "            labels = labels[:, label_indices].to(device).float()\r\n",
        "\r\n",
        "            class_opt.zero_grad()\r\n",
        "            class_pred = classifier(real)\r\n",
        "            class_loss = criterion(class_pred, labels)\r\n",
        "            class_loss.backward() # Calculate the gradients\r\n",
        "            class_opt.step() # Update the weights\r\n",
        "            classifier_losses += [class_loss.item()] # Keep track of the average classifier loss\r\n",
        "\r\n",
        "            ### Visualization code ###\r\n",
        "            if cur_step % display_step == 0 and cur_step > 0:\r\n",
        "                class_mean = sum(classifier_losses[-display_step:]) / display_step\r\n",
        "                print(f\"Step {cur_step}: Classifier loss: {class_mean}\")\r\n",
        "                step_bins = 20\r\n",
        "                x_axis = sorted([i * step_bins for i in range(len(classifier_losses) // step_bins)] * step_bins)\r\n",
        "                sns.lineplot(x_axis, classifier_losses[:len(x_axis)], label=\"Classifier Loss\")\r\n",
        "                plt.legend()\r\n",
        "                plt.show()\r\n",
        "                torch.save({\"classifier\": classifier.state_dict()}, filename)\r\n",
        "            cur_step += 1\r\n",
        "\r\n",
        "# Uncomment the last line to train your own classfier - this line will not work in Coursera.\r\n",
        "# If you'd like to do this, you'll have to download it and run it, ideally using a GPU.\r\n",
        "# train_classifier(\"filename\")"
      ],
      "execution_count": null,
      "outputs": []
    },
    {
      "cell_type": "markdown",
      "metadata": {
        "id": "bwnoZUw6-8XU"
      },
      "source": [
        "##Loading the Pre-trained Models\r\n",
        "You can now load the pre-trained generator (trained on CelebA) and classifier using the following code. If you trained your own classifier, you can load that one here instead. However, it is suggested that you first go through the assignment using the pre-trained one."
      ]
    },
    {
      "cell_type": "code",
      "metadata": {
        "id": "AMaFG8vv_E3O"
      },
      "source": [
        "import torch\r\n",
        "gen = Generator(z_dim).to(device)\r\n",
        "gen_dict = torch.load(\"pretrained_celeba.pth\", map_location=torch.device(device))[\"gen\"]\r\n",
        "gen.load_state_dict(gen_dict)\r\n",
        "gen.eval()\r\n",
        "\r\n",
        "n_classes = 40\r\n",
        "classifier = Classifier(n_classes=n_classes).to(device)\r\n",
        "class_dict = torch.load(\"pretrained_classifier.pth\", map_location=torch.device(device))[\"classifier\"]\r\n",
        "classifier.load_state_dict(class_dict)\r\n",
        "classifier.eval()\r\n",
        "print(\"Loaded the models!\")\r\n",
        "\r\n",
        "opt = torch.optim.Adam(classifier.parameters(), lr=0.01)"
      ],
      "execution_count": null,
      "outputs": []
    },
    {
      "cell_type": "markdown",
      "metadata": {
        "id": "kpncDVxd_Grh"
      },
      "source": [
        "##Feature Correlation\r\n",
        "Now you can generate images using the generator. By also using the classifier, you will be generating images with different amounts of the \"male\" feature.\r\n",
        "\r\n",
        "You are welcome to experiment with other features as the target feature, but it is encouraged that you initially go through the notebook as is before exploring."
      ]
    },
    {
      "cell_type": "code",
      "metadata": {
        "id": "9QuCoxZY_Eqo"
      },
      "source": [
        "# First you generate a bunch of fake images with the generator\r\n",
        "n_images = 256\r\n",
        "fake_image_history = []\r\n",
        "classification_history = []\r\n",
        "grad_steps = 30 # How many gradient steps to take\r\n",
        "skip = 2 # How many gradient steps to skip in the visualization\r\n",
        "\r\n",
        "feature_names = [\"5oClockShadow\", \"ArchedEyebrows\", \"Attractive\", \"BagsUnderEyes\", \"Bald\", \"Bangs\",\r\n",
        "\"BigLips\", \"BigNose\", \"BlackHair\", \"BlondHair\", \"Blurry\", \"BrownHair\", \"BushyEyebrows\", \"Chubby\",\r\n",
        "\"DoubleChin\", \"Eyeglasses\", \"Goatee\", \"GrayHair\", \"HeavyMakeup\", \"HighCheekbones\", \"Male\", \r\n",
        "\"MouthSlightlyOpen\", \"Mustache\", \"NarrowEyes\", \"NoBeard\", \"OvalFace\", \"PaleSkin\", \"PointyNose\", \r\n",
        "\"RecedingHairline\", \"RosyCheeks\", \"Sideburn\", \"Smiling\", \"StraightHair\", \"WavyHair\", \"WearingEarrings\", \r\n",
        "\"WearingHat\", \"WearingLipstick\", \"WearingNecklace\", \"WearingNecktie\", \"Young\"]\r\n",
        "\r\n",
        "n_features = len(feature_names)\r\n",
        "# Set the target feature\r\n",
        "target_feature = \"Male\"\r\n",
        "target_indices = feature_names.index(target_feature)\r\n",
        "noise = get_noise(n_images, z_dim).to(device)\r\n",
        "new_noise = noise.clone().requires_grad_()\r\n",
        "starting_classifications = classifier(gen(new_noise)).cpu().detach()\r\n",
        "\r\n",
        "# Additive direction (more of a feature)\r\n",
        "for i in range(grad_steps):\r\n",
        "    opt.zero_grad()\r\n",
        "    fake = gen(new_noise)\r\n",
        "    fake_image_history += [fake]\r\n",
        "    classifications = classifier(fake)\r\n",
        "    classification_history += [classifications.cpu().detach()]\r\n",
        "    fake_classes = classifications[:, target_indices].mean()\r\n",
        "    fake_classes.backward()\r\n",
        "    new_noise.data += new_noise.grad / grad_steps\r\n",
        "\r\n",
        "# Subtractive direction (less of a feature)\r\n",
        "new_noise = noise.clone().requires_grad_()\r\n",
        "for i in range(grad_steps):\r\n",
        "    opt.zero_grad()\r\n",
        "    fake = gen(new_noise)\r\n",
        "    fake_image_history += [fake]\r\n",
        "    classifications = classifier(fake)\r\n",
        "    classification_history += [classifications.cpu().detach()]\r\n",
        "    fake_classes = classifications[:, target_indices].mean()\r\n",
        "    fake_classes.backward()\r\n",
        "    new_noise.data -= new_noise.grad / grad_steps\r\n",
        "\r\n",
        "classification_history = torch.stack(classification_history)"
      ],
      "execution_count": null,
      "outputs": []
    },
    {
      "cell_type": "code",
      "metadata": {
        "colab": {
          "base_uri": "https://localhost:8080/"
        },
        "id": "Xp1pHUhZWMS8",
        "outputId": "0eeda637-04b9-48fd-d669-3ddffbfacf1d"
      },
      "source": [
        "feature_names = [\"5oClockShadow\", \"ArchedEyebrows\", \"Attractive\", \"BagsUnderEyes\", \"Bald\", \"Bangs\",\r\n",
        "\"BigLips\", \"BigNose\", \"BlackHair\", \"BlondHair\", \"Blurry\", \"BrownHair\", \"BushyEyebrows\", \"Chubby\",\r\n",
        "\"DoubleChin\", \"Eyeglasses\", \"Goatee\", \"GrayHair\", \"HeavyMakeup\", \"HighCheekbones\", \"Male\", \r\n",
        "\"MouthSlightlyOpen\", \"Mustache\", \"NarrowEyes\", \"NoBeard\", \"OvalFace\", \"PaleSkin\", \"PointyNose\", \r\n",
        "\"RecedingHairline\", \"RosyCheeks\", \"Sideburn\", \"Smiling\", \"StraightHair\", \"WavyHair\", \"WearingEarrings\", \r\n",
        "\"WearingHat\", \"WearingLipstick\", \"WearingNecklace\", \"WearingNecktie\", \"Young\"]\r\n",
        "\r\n",
        "len(feature_names)"
      ],
      "execution_count": null,
      "outputs": [
        {
          "output_type": "execute_result",
          "data": {
            "text/plain": [
              "40"
            ]
          },
          "metadata": {
            "tags": []
          },
          "execution_count": 5
        }
      ]
    },
    {
      "cell_type": "code",
      "metadata": {
        "id": "6UwFal2i_cLr"
      },
      "source": [
        "print(classification_history.shape)\r\n",
        "print(starting_classifications[None, :, :].shape)"
      ],
      "execution_count": null,
      "outputs": []
    },
    {
      "cell_type": "markdown",
      "metadata": {
        "id": "OVqQuzsF_buC"
      },
      "source": [
        "You've now generated image samples, which have increasing or decreasing amounts of the target feature. You can visualize the way in which that affects other classified features. The x-axis will show you the amount of change in your target feature and the y-axis shows how much the other features change, as detected in those images by the classifier. Together, you will be able to see the covariance of \"male-ness\" and other features.\r\n",
        "\r\n",
        "You are started off with a set of features that have interesting associations with \"male-ness\", but you are welcome to change the features in other_features with others from feature_names."
      ]
    },
    {
      "cell_type": "code",
      "metadata": {
        "id": "kq5qn7HX_Emk"
      },
      "source": [
        "import seaborn as sns\r\n",
        "# Set the other features\r\n",
        "other_features = [\"Smiling\", \"Bald\", \"Young\", \"HeavyMakeup\", \"Attractive\"]\r\n",
        "classification_changes = (classification_history - starting_classifications[None, :, :]).numpy()\r\n",
        "for other_feature in other_features:\r\n",
        "    other_indices = feature_names.index(other_feature)\r\n",
        "    with sns.axes_style(\"darkgrid\"):\r\n",
        "        sns.regplot(\r\n",
        "            classification_changes[:, :, target_indices].reshape(-1), \r\n",
        "            classification_changes[:, :, other_indices].reshape(-1), \r\n",
        "            fit_reg=True,\r\n",
        "            truncate=True,\r\n",
        "            ci=99,\r\n",
        "            x_ci=99,\r\n",
        "            x_bins=len(classification_history),\r\n",
        "            label=other_feature\r\n",
        "        )\r\n",
        "plt.xlabel(target_feature)\r\n",
        "plt.ylabel(\"Other Feature\")\r\n",
        "plt.title(f\"Generator Biases: Features vs {target_feature}-ness\")\r\n",
        "plt.legend(loc=1)\r\n",
        "plt.show()"
      ],
      "execution_count": null,
      "outputs": []
    },
    {
      "cell_type": "markdown",
      "metadata": {
        "id": "opTV9OkbJFsU"
      },
      "source": [
        "This correlation detection can be used to reduce bias by penalizing this type of correlation in the loss during the training of the generator. However, currently there is no rigorous and accepted solution for debiasing GANs. A first step that you can take in the right direction comes before training the model: make sure that your dataset is inclusive and representative, and consider how you can mitigate the biases resulting from whatever data collection method you used—for example, getting a representative labelers for your task.\r\n",
        "\r\n",
        "It is important to note that, as highlighted in the lecture and by many researchers including Timnit Gebru and Emily Denton, a diverse dataset alone is not enough to eliminate bias. Even diverse datasets can reinforce existing structural biases by simply capturing common social biases. Mitigating these biases is an important and active area of research.\r\n",
        "\r\n",
        "###Note on CelebA\r\n",
        "You may have noticed that there are obvious correlations between the feature you are using, \"male\", and other seemingly unrelates features, \"smiling\" and \"young\" for example. This is because the CelebA dataset labels had no serious consideration for diversity. The data represents the biases their labelers, the dataset creators, the social biases as a result of using a dataset based on American celebrities, and many others. Equipped with knowledge about bias, we trust that you will do better in the future datasets you create.\r\n"
      ]
    },
    {
      "cell_type": "markdown",
      "metadata": {
        "id": "BI9qrVzy5Tni"
      },
      "source": [
        "##Quantification\r\n",
        "Finally, you can also quantitatively evaluate the degree to which these factors covary."
      ]
    },
    {
      "cell_type": "code",
      "metadata": {
        "id": "_P60fT_x_Ei8"
      },
      "source": [
        "# UNQ_C1 (UNIQUE CELL IDENTIFIER, DO NOT EDIT)\r\n",
        "# GRADED CELL: get_top_covariances\r\n",
        "def get_top_covariances(classification_changes, target_index, top_n=10):\r\n",
        "    '''\r\n",
        "    Function for getting the top n covariances: Given a list of classification changes\r\n",
        "    and the index of the target feature, returns (1) a list or tensor (numpy or torch) of the indices\r\n",
        "    corresponding to the n most covarying factors in terms of absolute covariance\r\n",
        "    and (2) a list or tensor (numpy or torch) of the degrees to which they covary.\r\n",
        "    Parameters:\r\n",
        "        classification_changes: relative changes in classifications of each generated image \r\n",
        "          resulting from optimizing the target feature (see above for a visualization)\r\n",
        "        target_index: the index of the target feature, a scalar\r\n",
        "        top_n: the top most number of elements to return, default is 10\r\n",
        "    '''\r\n",
        "    #### START CODE HERE ####\r\n",
        "    flattened_changes = classification_changes.reshape(-1, classification_changes.shape[2]).T\r\n",
        "    covariances = np.cov(flattened_changes)\r\n",
        "    ind = np.argsort(-covariances, axis=1)\r\n",
        "    relevant_indices = ind[target_index][1:][:top_n]\r\n",
        "    highest_covariances = covariances[target_index][[relevant_indices]]#[target_index][relevant_indices]#[target_index, relevant_indices]\r\n",
        "    #### END CODE HERE ####\r\n",
        "    return relevant_indices, highest_covariances"
      ],
      "execution_count": 2,
      "outputs": []
    },
    {
      "cell_type": "code",
      "metadata": {
        "id": "rFbeSCH8_ESd",
        "colab": {
          "base_uri": "https://localhost:8080/"
        },
        "outputId": "9e738e18-a4c6-484f-f032-d2a1ab00fa55"
      },
      "source": [
        "# UNIT TEST\r\n",
        "from torch.distributions import MultivariateNormal\r\n",
        "mean = torch.Tensor([0, 0, 0, 0]) \r\n",
        "covariance = torch.Tensor( \r\n",
        "    [[10, 2, -0.5, 5],\r\n",
        "     [2, 11, 5, 4],\r\n",
        "     [-0.5, 5, 10, 2],\r\n",
        "     [5, 4, 2, 11]]\r\n",
        ")\r\n",
        "independent_dist = MultivariateNormal(mean, covariance)\r\n",
        "samples = independent_dist.sample((60 * 128,))\r\n",
        "foo = samples.reshape(60, 128, samples.shape[-1])\r\n",
        "\r\n",
        "relevant_indices, highest_covariances = get_top_covariances(foo, 0, top_n=3)\r\n",
        "assert (tuple(relevant_indices) == (3, 1, 2))\r\n",
        "assert np.all(np.abs(highest_covariances - [5, 2, -0.5]) < 0.5 )\r\n",
        "\r\n",
        "relevant_indices, highest_covariances = get_top_covariances(foo, 1, top_n=3)\r\n",
        "assert (tuple(relevant_indices) == (2, 3, 0))\r\n",
        "assert np.all(np.abs(highest_covariances - [5, 4, 2]) < 0.5 )\r\n",
        "\r\n",
        "\r\n",
        "relevant_indices, highest_covariances = get_top_covariances(foo, 2, top_n=2)\r\n",
        "assert (tuple(relevant_indices) == (1, 3))\r\n",
        "assert np.all(np.abs(highest_covariances - [5, 2]) < 0.5 )\r\n",
        "\r\n",
        "relevant_indices, highest_covariances = get_top_covariances(foo, 3, top_n=2)\r\n",
        "assert (tuple(relevant_indices) == (0, 1))\r\n",
        "assert np.all(np.abs(highest_covariances - [5, 4]) < 0.5 )\r\n",
        "\r\n",
        "print(\"All tests passed\")"
      ],
      "execution_count": 3,
      "outputs": [
        {
          "output_type": "stream",
          "text": [
            "All tests passed\n"
          ],
          "name": "stdout"
        },
        {
          "output_type": "stream",
          "text": [
            "/usr/local/lib/python3.6/dist-packages/ipykernel_launcher.py:20: FutureWarning: Using a non-tuple sequence for multidimensional indexing is deprecated; use `arr[tuple(seq)]` instead of `arr[seq]`. In the future this will be interpreted as an array index, `arr[np.array(seq)]`, which will result either in an error or a different result.\n"
          ],
          "name": "stderr"
        }
      ]
    }
  ]
}