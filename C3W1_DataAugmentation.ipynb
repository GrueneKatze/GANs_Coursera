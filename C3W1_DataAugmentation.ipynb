{
  "nbformat": 4,
  "nbformat_minor": 0,
  "metadata": {
    "colab": {
      "name": "C3W1_DataAugmentation",
      "provenance": [],
      "collapsed_sections": [],
      "include_colab_link": true
    },
    "kernelspec": {
      "name": "python3",
      "display_name": "Python 3"
    },
    "accelerator": "GPU",
    "widgets": {
      "application/vnd.jupyter.widget-state+json": {
        "fabcf11a2c4d4e6faa649ba00669a033": {
          "model_module": "@jupyter-widgets/controls",
          "model_name": "HBoxModel",
          "state": {
            "_view_name": "HBoxView",
            "_dom_classes": [],
            "_model_name": "HBoxModel",
            "_view_module": "@jupyter-widgets/controls",
            "_model_module_version": "1.5.0",
            "_view_count": null,
            "_view_module_version": "1.5.0",
            "box_style": "",
            "layout": "IPY_MODEL_26d287d6cabd44ea898860aff23455fb",
            "_model_module": "@jupyter-widgets/controls",
            "children": [
              "IPY_MODEL_c5e951dfdf96495c8c9e621de3f5f625",
              "IPY_MODEL_fb3fe45262ca4ef0ba8954b1f09016d5"
            ]
          }
        },
        "26d287d6cabd44ea898860aff23455fb": {
          "model_module": "@jupyter-widgets/base",
          "model_name": "LayoutModel",
          "state": {
            "_view_name": "LayoutView",
            "grid_template_rows": null,
            "right": null,
            "justify_content": null,
            "_view_module": "@jupyter-widgets/base",
            "overflow": null,
            "_model_module_version": "1.2.0",
            "_view_count": null,
            "flex_flow": null,
            "width": null,
            "min_width": null,
            "border": null,
            "align_items": null,
            "bottom": null,
            "_model_module": "@jupyter-widgets/base",
            "top": null,
            "grid_column": null,
            "overflow_y": null,
            "overflow_x": null,
            "grid_auto_flow": null,
            "grid_area": null,
            "grid_template_columns": null,
            "flex": null,
            "_model_name": "LayoutModel",
            "justify_items": null,
            "grid_row": null,
            "max_height": null,
            "align_content": null,
            "visibility": null,
            "align_self": null,
            "height": null,
            "min_height": null,
            "padding": null,
            "grid_auto_rows": null,
            "grid_gap": null,
            "max_width": null,
            "order": null,
            "_view_module_version": "1.2.0",
            "grid_template_areas": null,
            "object_position": null,
            "object_fit": null,
            "grid_auto_columns": null,
            "margin": null,
            "display": null,
            "left": null
          }
        },
        "c5e951dfdf96495c8c9e621de3f5f625": {
          "model_module": "@jupyter-widgets/controls",
          "model_name": "FloatProgressModel",
          "state": {
            "_view_name": "ProgressView",
            "style": "IPY_MODEL_e212db75a3e54d0a87f1656577397a69",
            "_dom_classes": [],
            "description": "100%",
            "_model_name": "FloatProgressModel",
            "bar_style": "success",
            "max": 21,
            "_view_module": "@jupyter-widgets/controls",
            "_model_module_version": "1.5.0",
            "value": 21,
            "_view_count": null,
            "_view_module_version": "1.5.0",
            "orientation": "horizontal",
            "min": 0,
            "description_tooltip": null,
            "_model_module": "@jupyter-widgets/controls",
            "layout": "IPY_MODEL_3087e85c98f044028123f118a5fbd169"
          }
        },
        "fb3fe45262ca4ef0ba8954b1f09016d5": {
          "model_module": "@jupyter-widgets/controls",
          "model_name": "HTMLModel",
          "state": {
            "_view_name": "HTMLView",
            "style": "IPY_MODEL_4108a574d39f4042912d11b92f45bac0",
            "_dom_classes": [],
            "description": "",
            "_model_name": "HTMLModel",
            "placeholder": "​",
            "_view_module": "@jupyter-widgets/controls",
            "_model_module_version": "1.5.0",
            "value": " 21/21 [00:45&lt;00:00,  2.19s/it]",
            "_view_count": null,
            "_view_module_version": "1.5.0",
            "description_tooltip": null,
            "_model_module": "@jupyter-widgets/controls",
            "layout": "IPY_MODEL_138c272435de452299d878c6b0a12384"
          }
        },
        "e212db75a3e54d0a87f1656577397a69": {
          "model_module": "@jupyter-widgets/controls",
          "model_name": "ProgressStyleModel",
          "state": {
            "_view_name": "StyleView",
            "_model_name": "ProgressStyleModel",
            "description_width": "initial",
            "_view_module": "@jupyter-widgets/base",
            "_model_module_version": "1.5.0",
            "_view_count": null,
            "_view_module_version": "1.2.0",
            "bar_color": null,
            "_model_module": "@jupyter-widgets/controls"
          }
        },
        "3087e85c98f044028123f118a5fbd169": {
          "model_module": "@jupyter-widgets/base",
          "model_name": "LayoutModel",
          "state": {
            "_view_name": "LayoutView",
            "grid_template_rows": null,
            "right": null,
            "justify_content": null,
            "_view_module": "@jupyter-widgets/base",
            "overflow": null,
            "_model_module_version": "1.2.0",
            "_view_count": null,
            "flex_flow": null,
            "width": null,
            "min_width": null,
            "border": null,
            "align_items": null,
            "bottom": null,
            "_model_module": "@jupyter-widgets/base",
            "top": null,
            "grid_column": null,
            "overflow_y": null,
            "overflow_x": null,
            "grid_auto_flow": null,
            "grid_area": null,
            "grid_template_columns": null,
            "flex": null,
            "_model_name": "LayoutModel",
            "justify_items": null,
            "grid_row": null,
            "max_height": null,
            "align_content": null,
            "visibility": null,
            "align_self": null,
            "height": null,
            "min_height": null,
            "padding": null,
            "grid_auto_rows": null,
            "grid_gap": null,
            "max_width": null,
            "order": null,
            "_view_module_version": "1.2.0",
            "grid_template_areas": null,
            "object_position": null,
            "object_fit": null,
            "grid_auto_columns": null,
            "margin": null,
            "display": null,
            "left": null
          }
        },
        "4108a574d39f4042912d11b92f45bac0": {
          "model_module": "@jupyter-widgets/controls",
          "model_name": "DescriptionStyleModel",
          "state": {
            "_view_name": "StyleView",
            "_model_name": "DescriptionStyleModel",
            "description_width": "",
            "_view_module": "@jupyter-widgets/base",
            "_model_module_version": "1.5.0",
            "_view_count": null,
            "_view_module_version": "1.2.0",
            "_model_module": "@jupyter-widgets/controls"
          }
        },
        "138c272435de452299d878c6b0a12384": {
          "model_module": "@jupyter-widgets/base",
          "model_name": "LayoutModel",
          "state": {
            "_view_name": "LayoutView",
            "grid_template_rows": null,
            "right": null,
            "justify_content": null,
            "_view_module": "@jupyter-widgets/base",
            "overflow": null,
            "_model_module_version": "1.2.0",
            "_view_count": null,
            "flex_flow": null,
            "width": null,
            "min_width": null,
            "border": null,
            "align_items": null,
            "bottom": null,
            "_model_module": "@jupyter-widgets/base",
            "top": null,
            "grid_column": null,
            "overflow_y": null,
            "overflow_x": null,
            "grid_auto_flow": null,
            "grid_area": null,
            "grid_template_columns": null,
            "flex": null,
            "_model_name": "LayoutModel",
            "justify_items": null,
            "grid_row": null,
            "max_height": null,
            "align_content": null,
            "visibility": null,
            "align_self": null,
            "height": null,
            "min_height": null,
            "padding": null,
            "grid_auto_rows": null,
            "grid_gap": null,
            "max_width": null,
            "order": null,
            "_view_module_version": "1.2.0",
            "grid_template_areas": null,
            "object_position": null,
            "object_fit": null,
            "grid_auto_columns": null,
            "margin": null,
            "display": null,
            "left": null
          }
        }
      }
    }
  },
  "cells": [
    {
      "cell_type": "markdown",
      "metadata": {
        "id": "view-in-github",
        "colab_type": "text"
      },
      "source": [
        "<a href=\"https://colab.research.google.com/github/GrueneKatze/GANs_Coursera/blob/main/C3W1_DataAugmentation.ipynb\" target=\"_parent\"><img src=\"https://colab.research.google.com/assets/colab-badge.svg\" alt=\"Open In Colab\"/></a>"
      ]
    },
    {
      "cell_type": "markdown",
      "metadata": {
        "id": "2bFRXfdmz5aN"
      },
      "source": [
        "#Data Augmentation\r\n",
        "##Goals\r\n",
        "In this notebook you're going to build a generator that can be used to help create data to train a classifier. There are many cases where this might be useful. If you are interested in any of these topics, you are welcome to explore the linked papers and articles!\r\n",
        "\r\n",
        "* With smaller datasets, GANs can provide useful data augmentation that substantially [improve classifier performance](https://arxiv.org/abs/1711.04340).\r\n",
        "* You have one type of data already labeled and would like to make predictions on [another related dataset for which you have no labels](https://www.nature.com/articles/s41598-019-52737-x). (You'll learn about the techniques for this use case in future notebooks!)\r\n",
        "* You want to protect the privacy of the people who provided their information so you can provide access to a [generator instead of real data](https://www.ahajournals.org/doi/full/10.1161/CIRCOUTCOMES.118.005122).\r\n",
        "* You have [input data with many missing values](https://arxiv.org/abs/1806.02920), where the input dimensions are correlated and you would like to train a model on complete inputs.\r\n",
        "* You would like to be able to identify a real-world abnormal feature in an image for the [purpose of diagnosis](https://link.springer.com/chapter/10.1007/978-3-030-00946-5_11), but have limited access to real examples of the condition.\r\n",
        "In this assignment, you're going to be acting as a bug enthusiast — more on that later.\r\n",
        "\r\n",
        "##Learning Objectives\r\n",
        "* Understand some use cases for data augmentation and why GANs suit this task.\r\n",
        "* Implement a classifier that takes a mixed dataset of reals/fakes and analyze its accuracy."
      ]
    },
    {
      "cell_type": "markdown",
      "metadata": {
        "id": "DDaL0UA97UNf"
      },
      "source": [
        "##Getting Started\r\n",
        "###Data Augmentation\r\n",
        "Before you implement GAN-based data augmentation, you should know a bit about data augmentation in general, specifically for image datasets. \r\n",
        "\r\n",
        "It is very [common practice](https://arxiv.org/abs/1712.04621) to augment image-based datasets in ways that are appropriate for a given dataset. This may include having your dataloader randomly flipping images across their vertical axis, randomly cropping your image to a particular size, randomly adding a bit of noise or color to an image in ways that are true-to-life.\r\n",
        "\r\n",
        "In general, data augmentation helps to stop your model from overfitting to the data, and allows you to make small datasets many times larger. However, a sufficiently powerful classifier often still overfits to the original examples which is why GANs are particularly useful here. They can generate new images instead of simply modifying existing ones.\r\n",
        "\r\n",
        "###CIFAR\r\n",
        "The [CIFAR-10 and CIFAR-100](https://www.cs.toronto.edu/~kriz/learning-features-2009-TR.pdf) datasets are extremely widely used within machine learning -- they contain many thousands of “tiny” 32x32 color images of different classes representing relatively common real-world objects like airplanes and dogs, with 10 classes in CIFAR-10 and 100 classes in CIFAR-100. In CIFAR-100, there are 20 “superclasses” which each contain five classes. For example, the “fish” superclass contains “aquarium fish, flatfish, ray, shark, trout”. For the purposes of this assignment, you’ll be looking at a small subset of these images to simulate a small data regime, with only 40 images of each class for training.\r\n",
        "\r\n",
        "###Initializations\r\n",
        "You will begin by importing some useful libraries and packages and defining a visualization function that has been provided. You will also be re-using your conditional generator and functions code from earlier assignments. This will let you control what class of images to augment for your classifier."
      ]
    },
    {
      "cell_type": "code",
      "metadata": {
        "id": "W7UR0lFR6qcI"
      },
      "source": [
        "import torch\r\n",
        "import torch.nn.functional as F\r\n",
        "import matplotlib.pyplot as plt\r\n",
        "from torch import nn\r\n",
        "from tqdm.auto import tqdm\r\n",
        "from torchvision import transforms\r\n",
        "from torchvision.utils import make_grid\r\n",
        "from torch.utils.data import DataLoader\r\n",
        "torch.manual_seed(0) # Set for our testing purposes, please do not change!\r\n",
        "\r\n",
        "def show_tensor_images(image_tensor, num_images=25, size=(3, 32, 32), nrow=5, show=True):\r\n",
        "    '''\r\n",
        "    Function for visualizing images: Given a tensor of images, number of images, and\r\n",
        "    size per image, plots and prints the images in an uniform grid.\r\n",
        "    '''\r\n",
        "    image_tensor = (image_tensor + 1) / 2\r\n",
        "    image_unflat = image_tensor.detach().cpu()\r\n",
        "    image_grid = make_grid(image_unflat[:num_images], nrow=nrow)\r\n",
        "    plt.imshow(image_grid.permute(1, 2, 0).squeeze())\r\n",
        "    if show:\r\n",
        "        plt.show()"
      ],
      "execution_count": 1,
      "outputs": []
    },
    {
      "cell_type": "code",
      "metadata": {
        "id": "h-b5pnBB6qYu"
      },
      "source": [
        "class Generator(nn.Module):\r\n",
        "    '''\r\n",
        "    Generator Class\r\n",
        "    Values:\r\n",
        "        input_dim: the dimension of the input vector, a scalar\r\n",
        "        im_chan: the number of channels of the output image, a scalar\r\n",
        "              (CIFAR100 is in color (red, green, blue), so 3 is your default)\r\n",
        "        hidden_dim: the inner dimension, a scalar\r\n",
        "    '''\r\n",
        "    def __init__(self, input_dim=10, im_chan=3, hidden_dim=64):\r\n",
        "        super(Generator, self).__init__()\r\n",
        "        self.input_dim = input_dim\r\n",
        "        # Build the neural network\r\n",
        "        self.gen = nn.Sequential(\r\n",
        "            self.make_gen_block(input_dim, hidden_dim * 4, kernel_size=4),\r\n",
        "            self.make_gen_block(hidden_dim * 4, hidden_dim * 2, kernel_size=4, stride=1),\r\n",
        "            self.make_gen_block(hidden_dim * 2, hidden_dim, kernel_size=4),\r\n",
        "            self.make_gen_block(hidden_dim, im_chan, kernel_size=2, final_layer=True),\r\n",
        "        )\r\n",
        "\r\n",
        "    def make_gen_block(self, input_channels, output_channels, kernel_size=3, stride=2, final_layer=False):\r\n",
        "        '''\r\n",
        "        Function to return a sequence of operations corresponding to a generator block of DCGAN;\r\n",
        "        a transposed convolution, a batchnorm (except in the final layer), and an activation.\r\n",
        "        Parameters:\r\n",
        "            input_channels: how many channels the input feature representation has\r\n",
        "            output_channels: how many channels the output feature representation should have\r\n",
        "            kernel_size: the size of each convolutional filter, equivalent to (kernel_size, kernel_size)\r\n",
        "            stride: the stride of the convolution\r\n",
        "            final_layer: a boolean, true if it is the final layer and false otherwise \r\n",
        "                      (affects activation and batchnorm)\r\n",
        "        '''\r\n",
        "        if not final_layer:\r\n",
        "            return nn.Sequential(\r\n",
        "                nn.ConvTranspose2d(input_channels, output_channels, kernel_size, stride),\r\n",
        "                nn.BatchNorm2d(output_channels),\r\n",
        "                nn.ReLU(inplace=True),\r\n",
        "            )\r\n",
        "        else:\r\n",
        "            return nn.Sequential(\r\n",
        "                nn.ConvTranspose2d(input_channels, output_channels, kernel_size, stride),\r\n",
        "                nn.Tanh(),\r\n",
        "            )\r\n",
        "\r\n",
        "    def forward(self, noise):\r\n",
        "        '''\r\n",
        "        Function for completing a forward pass of the generator: Given a noise tensor, \r\n",
        "        returns generated images.\r\n",
        "        Parameters:\r\n",
        "            noise: a noise tensor with dimensions (n_samples, input_dim)\r\n",
        "        '''\r\n",
        "        x = noise.view(len(noise), self.input_dim, 1, 1)\r\n",
        "        return self.gen(x)\r\n",
        "\r\n",
        "\r\n",
        "def get_noise(n_samples, input_dim, device='cpu'):\r\n",
        "    '''\r\n",
        "    Function for creating noise vectors: Given the dimensions (n_samples, input_dim)\r\n",
        "    creates a tensor of that shape filled with random numbers from the normal distribution.\r\n",
        "    Parameters:\r\n",
        "        n_samples: the number of samples to generate, a scalar\r\n",
        "        input_dim: the dimension of the input vector, a scalar\r\n",
        "        device: the device type\r\n",
        "    '''\r\n",
        "    return torch.randn(n_samples, input_dim, device=device)\r\n",
        "\r\n",
        "def combine_vectors(x, y):\r\n",
        "    '''\r\n",
        "    Function for combining two vectors with shapes (n_samples, ?) and (n_samples, ?)\r\n",
        "    Parameters:\r\n",
        "    x: (n_samples, ?) the first vector. \r\n",
        "        In this assignment, this will be the noise vector of shape (n_samples, z_dim), \r\n",
        "        but you shouldn't need to know the second dimension's size.\r\n",
        "    y: (n_samples, ?) the second vector.\r\n",
        "        Once again, in this assignment this will be the one-hot class vector \r\n",
        "        with the shape (n_samples, n_classes), but you shouldn't assume this in your code.\r\n",
        "    '''\r\n",
        "    return torch.cat([x, y], 1)\r\n",
        "\r\n",
        "def get_one_hot_labels(labels, n_classes):\r\n",
        "    '''\r\n",
        "    Function for combining two vectors with shapes (n_samples, ?) and (n_samples, ?)\r\n",
        "    Parameters:\r\n",
        "    labels: (n_samples, 1) \r\n",
        "    n_classes: a single integer corresponding to the total number of classes in the dataset\r\n",
        "    '''\r\n",
        "    return F.one_hot(labels, n_classes)"
      ],
      "execution_count": 2,
      "outputs": []
    },
    {
      "cell_type": "markdown",
      "metadata": {
        "id": "8QM6a5Cq_dbu"
      },
      "source": [
        "##Training\r\n",
        "Now you can begin training your models. First, you will define some new parameters:\r\n",
        "\r\n",
        "* cifar100_shape: the number of pixels in each CIFAR image, which has dimensions 32 x 32 and three channel (for red, green, and blue) so 3 x 32 x 32\r\n",
        "* n_classes: the number of classes in CIFAR100 (e.g. airplane, automobile, bird, cat, deer, dog, frog, horse, ship, truck)"
      ]
    },
    {
      "cell_type": "code",
      "metadata": {
        "id": "G1eXv2kN6qVa"
      },
      "source": [
        "cifar100_shape = (3, 32, 32)\r\n",
        "n_classes = 100"
      ],
      "execution_count": 3,
      "outputs": []
    },
    {
      "cell_type": "markdown",
      "metadata": {
        "id": "Z6uKEwwD_o9p"
      },
      "source": [
        "And you also include the same parameters from previous assignments:\r\n",
        "\r\n",
        "* criterion: the loss function\r\n",
        "* n_epochs: the number of times you iterate through the entire dataset when training\r\n",
        "* z_dim: the dimension of the noise vector\r\n",
        "* display_step: how often to display/visualize the images\r\n",
        "* batch_size: the number of images per forward/backward pass\r\n",
        "* lr: the learning rate\r\n",
        "* device: the device type"
      ]
    },
    {
      "cell_type": "code",
      "metadata": {
        "id": "QXoICKwqBBLL"
      },
      "source": [
        "n_epochs = 10000\r\n",
        "z_dim = 64\r\n",
        "display_step = 500\r\n",
        "batch_size = 64\r\n",
        "lr = 0.0002\r\n",
        "device = 'cuda'"
      ],
      "execution_count": 4,
      "outputs": []
    },
    {
      "cell_type": "markdown",
      "metadata": {
        "id": "hdEzr851BLFY"
      },
      "source": [
        "Then, you want to set your generator's input dimension. Recall that for conditional GANs, the generator's input is the noise vector concatenated with the class vector."
      ]
    },
    {
      "cell_type": "code",
      "metadata": {
        "id": "FNUz0QkXBPiu"
      },
      "source": [
        "generator_input_dim = z_dim + n_classes"
      ],
      "execution_count": 5,
      "outputs": []
    },
    {
      "cell_type": "markdown",
      "metadata": {
        "id": "pYMscS6dBWE9"
      },
      "source": [
        "##Classifier\r\n",
        "For the classifier, you will use the same code that you wrote in an earlier assignment (the same as previous code for the discriminator as well since the discriminator is a real/fake classifier)."
      ]
    },
    {
      "cell_type": "code",
      "metadata": {
        "id": "8lqF4bxb6qR-"
      },
      "source": [
        "class Classifier(nn.Module):\r\n",
        "    '''\r\n",
        "    Classifier Class\r\n",
        "    Values:\r\n",
        "        im_chan: the number of channels of the output image, a scalar\r\n",
        "        n_classes: the total number of classes in the dataset, an integer scalar\r\n",
        "        hidden_dim: the inner dimension, a scalar\r\n",
        "    '''\r\n",
        "    def __init__(self, im_chan, n_classes, hidden_dim=32):\r\n",
        "        super(Classifier, self).__init__()\r\n",
        "        self.disc = nn.Sequential(\r\n",
        "            self.make_classifier_block(im_chan, hidden_dim),\r\n",
        "            self.make_classifier_block(hidden_dim, hidden_dim * 2),\r\n",
        "            self.make_classifier_block(hidden_dim * 2, hidden_dim * 4),\r\n",
        "            self.make_classifier_block(hidden_dim * 4, n_classes, final_layer=True),\r\n",
        "        )\r\n",
        "\r\n",
        "    def make_classifier_block(self, input_channels, output_channels, kernel_size=3, stride=2, final_layer=False):\r\n",
        "        '''\r\n",
        "        Function to return a sequence of operations corresponding to a classifier block; \r\n",
        "        a convolution, a batchnorm (except in the final layer), and an activation (except in the final\r\n",
        "        Parameters:\r\n",
        "            input_channels: how many channels the input feature representation has\r\n",
        "            output_channels: how many channels the output feature representation should have\r\n",
        "            kernel_size: the size of each convolutional filter, equivalent to (kernel_size, kernel_size)\r\n",
        "            stride: the stride of the convolution\r\n",
        "            final_layer: a boolean, true if it is the final layer and false otherwise \r\n",
        "                      (affects activation and batchnorm)\r\n",
        "        '''\r\n",
        "        if not final_layer:\r\n",
        "            return nn.Sequential(\r\n",
        "                nn.Conv2d(input_channels, output_channels, kernel_size, stride),\r\n",
        "                nn.BatchNorm2d(output_channels),\r\n",
        "                nn.LeakyReLU(0.2, inplace=True),\r\n",
        "            )\r\n",
        "        else:\r\n",
        "            return nn.Sequential(\r\n",
        "                nn.Conv2d(input_channels, output_channels, kernel_size, stride),\r\n",
        "            )\r\n",
        "\r\n",
        "    def forward(self, image):\r\n",
        "        '''\r\n",
        "        Function for completing a forward pass of the classifier: Given an image tensor, \r\n",
        "        returns an n_classes-dimension tensor representing fake/real.\r\n",
        "        Parameters:\r\n",
        "            image: a flattened image tensor with im_chan channels\r\n",
        "        '''\r\n",
        "        class_pred = self.disc(image)\r\n",
        "        return class_pred.view(len(class_pred), -1)"
      ],
      "execution_count": 6,
      "outputs": []
    },
    {
      "cell_type": "markdown",
      "metadata": {
        "id": "qiiBC1t8COcv"
      },
      "source": [
        "###Pre-training (Optional)\r\n",
        "You are provided the code to pre-train the models (GAN and classifier) given to you in this assignment. However, this is intended only for your personal curiosity -- for the assignment to run as intended, you should not use any checkpoints besides the ones given to you."
      ]
    },
    {
      "cell_type": "code",
      "metadata": {
        "id": "QiptUatY6qOm"
      },
      "source": [
        "# This code is here for you to train your own generator or classifier \r\n",
        "# outside the assignment on the full dataset if you'd like -- for the purposes \r\n",
        "# of this assignment, please use the provided checkpoints\r\n",
        "class Discriminator(nn.Module):\r\n",
        "    '''\r\n",
        "    Discriminator Class\r\n",
        "    Values:\r\n",
        "      im_chan: the number of channels of the output image, a scalar\r\n",
        "            (MNIST is black-and-white, so 1 channel is your default)\r\n",
        "      hidden_dim: the inner dimension, a scalar\r\n",
        "    '''\r\n",
        "    def __init__(self, im_chan=3, hidden_dim=64):\r\n",
        "        super(Discriminator, self).__init__()\r\n",
        "        self.disc = nn.Sequential(\r\n",
        "            self.make_disc_block(im_chan, hidden_dim, stride=1),\r\n",
        "            self.make_disc_block(hidden_dim, hidden_dim * 2),\r\n",
        "            self.make_disc_block(hidden_dim * 2, hidden_dim * 4),\r\n",
        "            self.make_disc_block(hidden_dim * 4, 1, final_layer=True),\r\n",
        "        )\r\n",
        "\r\n",
        "    def make_disc_block(self, input_channels, output_channels, kernel_size=4, stride=2, final_layer=False):\r\n",
        "        '''\r\n",
        "        Function to return a sequence of operations corresponding to a discriminator block of the DCGAN; \r\n",
        "        a convolution, a batchnorm (except in the final layer), and an activation (except in the final layer).\r\n",
        "        Parameters:\r\n",
        "            input_channels: how many channels the input feature representation has\r\n",
        "            output_channels: how many channels the output feature representation should have\r\n",
        "            kernel_size: the size of each convolutional filter, equivalent to (kernel_size, kernel_size)\r\n",
        "            stride: the stride of the convolution\r\n",
        "            final_layer: a boolean, true if it is the final layer and false otherwise \r\n",
        "                      (affects activation and batchnorm)\r\n",
        "        '''\r\n",
        "        if not final_layer:\r\n",
        "            return nn.Sequential(\r\n",
        "                nn.Conv2d(input_channels, output_channels, kernel_size, stride),\r\n",
        "                nn.BatchNorm2d(output_channels),\r\n",
        "                nn.LeakyReLU(0.2, inplace=True),\r\n",
        "            )\r\n",
        "        else:\r\n",
        "            return nn.Sequential(\r\n",
        "                nn.Conv2d(input_channels, output_channels, kernel_size, stride),\r\n",
        "            )\r\n",
        "\r\n",
        "    def forward(self, image):\r\n",
        "        '''\r\n",
        "        Function for completing a forward pass of the discriminator: Given an image tensor, \r\n",
        "        returns a 1-dimension tensor representing fake/real.\r\n",
        "        Parameters:\r\n",
        "            image: a flattened image tensor with dimension (im_chan)\r\n",
        "        '''\r\n",
        "        disc_pred = self.disc(image)\r\n",
        "        return disc_pred.view(len(disc_pred), -1)\r\n",
        "\r\n",
        "def train_generator():\r\n",
        "    gen = Generator(generator_input_dim).to(device)\r\n",
        "    gen_opt = torch.optim.Adam(gen.parameters(), lr=lr)\r\n",
        "    discriminator_input_dim = cifar100_shape[0] + n_classes\r\n",
        "    disc = Discriminator(discriminator_input_dim).to(device)\r\n",
        "    disc_opt = torch.optim.Adam(disc.parameters(), lr=lr)\r\n",
        "\r\n",
        "    def weights_init(m):\r\n",
        "        if isinstance(m, nn.Conv2d) or isinstance(m, nn.ConvTranspose2d):\r\n",
        "            torch.nn.init.normal_(m.weight, 0.0, 0.02)\r\n",
        "        if isinstance(m, nn.BatchNorm2d):\r\n",
        "            torch.nn.init.normal_(m.weight, 0.0, 0.02)\r\n",
        "            torch.nn.init.constant_(m.bias, 0)\r\n",
        "    gen = gen.apply(weights_init)\r\n",
        "    disc = disc.apply(weights_init)\r\n",
        "\r\n",
        "    criterion = nn.BCEWithLogitsLoss()\r\n",
        "    cur_step = 0\r\n",
        "    mean_generator_loss = 0\r\n",
        "    mean_discriminator_loss = 0\r\n",
        "    for epoch in range(n_epochs):\r\n",
        "        # Dataloader returns the batches and the labels\r\n",
        "        for real, labels in dataloader:\r\n",
        "            cur_batch_size = len(real)\r\n",
        "            # Flatten the batch of real images from the dataset\r\n",
        "            real = real.to(device)\r\n",
        "\r\n",
        "            # Convert the labels from the dataloader into one-hot versions of those labels\r\n",
        "            one_hot_labels = get_one_hot_labels(labels.to(device), n_classes).float()\r\n",
        "\r\n",
        "            image_one_hot_labels = one_hot_labels[:, :, None, None]\r\n",
        "            image_one_hot_labels = image_one_hot_labels.repeat(1, 1, cifar100_shape[1], cifar100_shape[2])\r\n",
        "\r\n",
        "            ### Update discriminator ###\r\n",
        "            # Zero out the discriminator gradients\r\n",
        "            disc_opt.zero_grad()\r\n",
        "            # Get noise corresponding to the current batch_size \r\n",
        "            fake_noise = get_noise(cur_batch_size, z_dim, device=device)\r\n",
        "        \r\n",
        "            # Combine the vectors of the noise and the one-hot labels for the generator\r\n",
        "            noise_and_labels = combine_vectors(fake_noise, one_hot_labels)\r\n",
        "            fake = gen(noise_and_labels)\r\n",
        "            # Combine the vectors of the images and the one-hot labels for the discriminator\r\n",
        "            fake_image_and_labels = combine_vectors(fake.detach(), image_one_hot_labels)\r\n",
        "            real_image_and_labels = combine_vectors(real, image_one_hot_labels)\r\n",
        "            disc_fake_pred = disc(fake_image_and_labels)\r\n",
        "            disc_real_pred = disc(real_image_and_labels)\r\n",
        "\r\n",
        "            disc_fake_loss = criterion(disc_fake_pred, torch.zeros_like(disc_fake_pred))\r\n",
        "            disc_real_loss = criterion(disc_real_pred, torch.ones_like(disc_real_pred))\r\n",
        "            disc_loss = (disc_fake_loss + disc_real_loss) / 2\r\n",
        "            disc_loss.backward(retain_graph=True)\r\n",
        "            disc_opt.step() \r\n",
        "\r\n",
        "            # Keep track of the average discriminator loss\r\n",
        "            mean_discriminator_loss += disc_loss.item() / display_step\r\n",
        "\r\n",
        "            ### Update generator ###\r\n",
        "            # Zero out the generator gradients\r\n",
        "            gen_opt.zero_grad()\r\n",
        "\r\n",
        "            # Pass the discriminator the combination of the fake images and the one-hot labels\r\n",
        "            fake_image_and_labels = combine_vectors(fake, image_one_hot_labels)\r\n",
        "\r\n",
        "            disc_fake_pred = disc(fake_image_and_labels)\r\n",
        "            gen_loss = criterion(disc_fake_pred, torch.ones_like(disc_fake_pred))\r\n",
        "            gen_loss.backward()\r\n",
        "            gen_opt.step()\r\n",
        "\r\n",
        "            # Keep track of the average generator loss\r\n",
        "            mean_generator_loss += gen_loss.item() / display_step\r\n",
        "\r\n",
        "            if cur_step % display_step == 0 and cur_step > 0:\r\n",
        "                print(f\"Step {cur_step}: Generator loss: {mean_generator_loss}, discriminator loss: {mean_discriminator_loss}\")\r\n",
        "                show_tensor_images(fake)\r\n",
        "                show_tensor_images(real)\r\n",
        "                mean_generator_loss = 0\r\n",
        "                mean_discriminator_loss = 0\r\n",
        "            cur_step += 1\r\n",
        "\r\n",
        "def train_classifier():\r\n",
        "    criterion = nn.CrossEntropyLoss()\r\n",
        "    n_epochs = 10\r\n",
        "\r\n",
        "    validation_dataloader = DataLoader(\r\n",
        "        CIFAR100(\".\", train=False, download=True, transform=transform),\r\n",
        "        batch_size=batch_size)\r\n",
        "\r\n",
        "    display_step = 10\r\n",
        "    batch_size = 512\r\n",
        "    lr = 0.0002\r\n",
        "    device = 'cuda'\r\n",
        "    classifier = Classifier(cifar100_shape[0], n_classes).to(device)\r\n",
        "    classifier_opt = torch.optim.Adam(classifier.parameters(), lr=lr)\r\n",
        "    cur_step = 0\r\n",
        "    for epoch in range(n_epochs):\r\n",
        "        for real, labels in tqdm(dataloader):\r\n",
        "            cur_batch_size = len(real)\r\n",
        "            real = real.to(device)\r\n",
        "            labels = labels.to(device)\r\n",
        "\r\n",
        "            ### Update classifier ###\r\n",
        "            # Get noise corresponding to the current batch_size\r\n",
        "            classifier_opt.zero_grad()\r\n",
        "            labels_hat = classifier(real.detach())\r\n",
        "            classifier_loss = criterion(labels_hat, labels)\r\n",
        "            classifier_loss.backward()\r\n",
        "            classifier_opt.step()\r\n",
        "\r\n",
        "            if cur_step % display_step == 0:\r\n",
        "                classifier_val_loss = 0\r\n",
        "                classifier_correct = 0\r\n",
        "                num_validation = 0\r\n",
        "                for val_example, val_label in validation_dataloader:\r\n",
        "                    cur_batch_size = len(val_example)\r\n",
        "                    num_validation += cur_batch_size\r\n",
        "                    val_example = val_example.to(device)\r\n",
        "                    val_label = val_label.to(device)\r\n",
        "                    labels_hat = classifier(val_example)\r\n",
        "                    classifier_val_loss += criterion(labels_hat, val_label) * cur_batch_size\r\n",
        "                    classifier_correct += (labels_hat.argmax(1) == val_label).float().sum()\r\n",
        "\r\n",
        "                print(f\"Step {cur_step}: \"\r\n",
        "                        f\"Classifier loss: {classifier_val_loss.item() / num_validation}, \"\r\n",
        "                        f\"classifier accuracy: {classifier_correct.item() / num_validation}\")\r\n",
        "            cur_step += 1\r\n"
      ],
      "execution_count": null,
      "outputs": []
    },
    {
      "cell_type": "markdown",
      "metadata": {
        "id": "1bSuCvqxCcIY"
      },
      "source": [
        "##Tuning the Classifier\r\n",
        "After two courses, you've probably had some fun debugging your GANs and have started to consider yourself a bug master. For this assignment, your mastery will be put to the test on some interesting bugs... well, bugs as in insects.\r\n",
        "\r\n",
        "As a bug master, you want a classifier capable of classifying different species of bugs: bees, beetles, butterflies, caterpillar, and more. Luckily, you found a great dataset with a lot of animal species and objects, and you trained your classifier on that.\r\n",
        "\r\n",
        "But the bug classes don't do as well as you would like. Now your plan is to train a GAN on the same data so it can generate new bugs to make your classifier better at distinguishing between all of your favorite bugs!\r\n",
        "\r\n",
        "You will fine-tune your model by augmenting the original real data with fake data and during that process, observe how to increase the accuracy of your classifier with these fake, GAN-generated bugs. After this, you will prove your worth as a bug master.\r\n",
        "\r\n",
        "####Sampling Ratio\r\n",
        "Suppose that you've decided that although you have this pre-trained general generator and this general classifier, capable of identifying 100 classes with some accuracy (~17%), what you'd really like is a model that can classify the five different kinds of bugs in the dataset. You'll fine-tune your model by augmenting your data with the generated images. Keep in mind that both the generator and the classifier were trained on the same images: the 40 images per class you painstakingly found so your generator may not be great. This is the caveat with data augmentation, ultimately you are still bound by the real data that you have but you want to try and create more. To make your models even better, you would need to take some more bug photos, label them, and add them to your training set and/or use higher quality photos.\r\n",
        "\r\n",
        "To start, you'll first need to write some code to sample a combination of real and generated images. Given a probability, p_real, you'll need to generate a combined tensor where roughly p_real of the returned images are sampled from the real images. Note that you should not interpolate the images here: you should choose each image from the real or fake set with a given probability.\r\n",
        "\r\n",
        "In addition, we will expect the images to remain in the same order to maintain their alignment with their labels (this applies to the fake images too!)."
      ]
    },
    {
      "cell_type": "code",
      "metadata": {
        "id": "0U3jcwY9j_mR"
      },
      "source": [
        "# UNQ_C1 (UNIQUE CELL IDENTIFIER, DO NOT EDIT)\r\n",
        "# GRADED FUNCTION: combine_sample\r\n",
        "def combine_sample(real, fake, p_real):\r\n",
        "    '''\r\n",
        "    Function to take a set of real and fake images of the same length (x)\r\n",
        "    and produce a combined tensor with length (x) and sampled at the target probability\r\n",
        "    Parameters:\r\n",
        "        real: a tensor of real images, length (x)\r\n",
        "        fake: a tensor of fake images, length (x)\r\n",
        "        p_real: the probability the images are sampled from the real set\r\n",
        "    '''\r\n",
        "    #### START CODE HERE ####\r\n",
        "    target_images = real.clone()\r\n",
        "    mask = torch.rand(len(real)) > (1-p_real)\r\n",
        "    target_images[mask==False] = fake[mask==False]\r\n",
        "    #### END CODE HERE ####\r\n",
        "    return target_images"
      ],
      "execution_count": 7,
      "outputs": []
    },
    {
      "cell_type": "code",
      "metadata": {
        "id": "mRZV8l68CVzK",
        "colab": {
          "base_uri": "https://localhost:8080/"
        },
        "outputId": "0687621c-676d-4d97-b3e0-cd88353986f9"
      },
      "source": [
        "n_test_samples = 9999\r\n",
        "test_combination = combine_sample(\r\n",
        "    torch.ones(n_test_samples, 1), \r\n",
        "    torch.zeros(n_test_samples, 1), \r\n",
        "    0.3\r\n",
        ")\r\n",
        "# Check that the shape is right\r\n",
        "assert tuple(test_combination.shape) == (n_test_samples, 1)\r\n",
        "# Check that the ratio is right\r\n",
        "assert torch.abs(test_combination.mean() - 0.3) < 0.05\r\n",
        "# Make sure that no mixing happened\r\n",
        "assert test_combination.median() < 1e-5\r\n",
        "\r\n",
        "test_combination = combine_sample(\r\n",
        "    torch.ones(n_test_samples, 10, 10), \r\n",
        "    torch.zeros(n_test_samples, 10, 10), \r\n",
        "    0.8\r\n",
        ")\r\n",
        "# Check that the shape is right\r\n",
        "assert tuple(test_combination.shape) == (n_test_samples, 10, 10)\r\n",
        "# Make sure that no mixing happened\r\n",
        "assert torch.abs((test_combination.sum([1, 2]).median()) - 100) < 1e-5\r\n",
        "\r\n",
        "test_reals = torch.arange(n_test_samples)[:, None].float()\r\n",
        "test_fakes = torch.zeros(n_test_samples, 1)\r\n",
        "test_saved = (test_reals.clone(), test_fakes.clone())\r\n",
        "test_combination = combine_sample(test_reals, test_fakes, 0.3)\r\n",
        "# Make sure that the sample isn't biased\r\n",
        "assert torch.abs((test_combination.mean() - 1500)) < 100\r\n",
        "# Make sure no inputs were changed\r\n",
        "assert torch.abs(test_saved[0] - test_reals).sum() < 1e-3\r\n",
        "assert torch.abs(test_saved[1] - test_fakes).sum() < 1e-3\r\n",
        "\r\n",
        "test_fakes = torch.arange(n_test_samples)[:, None].float()\r\n",
        "test_combination = combine_sample(test_reals, test_fakes, 0.3)\r\n",
        "# Make sure that the order is maintained\r\n",
        "assert torch.abs(test_combination - test_reals).sum() < 1e-4\r\n",
        "print(\"Success!\")"
      ],
      "execution_count": 8,
      "outputs": [
        {
          "output_type": "stream",
          "text": [
            "Success!\n"
          ],
          "name": "stdout"
        }
      ]
    },
    {
      "cell_type": "markdown",
      "metadata": {
        "id": "T-wy_uR4ko4I"
      },
      "source": [
        "Now you have a challenge: find a p_real and a generator image such that your classifier gets an average of a 51% accuracy or higher on the insects, when evaluated with the eval_augmentation function. You'll need to fill in find_optimal to find these parameters to solve this part!\r\n",
        "\r\n",
        "When you're training a generator, you will often have to look at different checkpoints and choose one that does the best (either empirically or using some evaluation method). Here, you are given four generator checkpoints: gen_1.pt, gen_2.pt, gen_3.pt, gen_4.pt. You'll also have some scratch area to write whatever code you'd like to solve this problem, but you must return a p_real and an image name of your selected generator checkpoint. You can hard-code/brute-force these numbers if you would like, but you are encouraged to try to solve this problem in a more general way. In practice, you would also want a test set (since it is possible to overfit on a validation set), but for simplicity you can just focus on the validation set."
      ]
    },
    {
      "cell_type": "code",
      "metadata": {
        "colab": {
          "base_uri": "https://localhost:8080/"
        },
        "id": "0P62rGHJSnBE",
        "outputId": "0b7cd1a4-5561-4d2e-cd19-9cfb356324f6"
      },
      "source": [
        "#ann smith\r\n",
        "from google.colab import drive\r\n",
        "drive.mount('/content/gdrive', force_remount=True)\r\n",
        "root_dir = \"/content/gdrive/My Drive/\"\r\n",
        "base_dir = root_dir + 'Apply_GANs_W1/'"
      ],
      "execution_count": 9,
      "outputs": [
        {
          "output_type": "stream",
          "text": [
            "Mounted at /content/gdrive\n"
          ],
          "name": "stdout"
        }
      ]
    },
    {
      "cell_type": "code",
      "metadata": {
        "colab": {
          "base_uri": "https://localhost:8080/"
        },
        "id": "XIRr_-oBUYVk",
        "outputId": "db305c56-dea0-448f-8945-c1a770cbf352"
      },
      "source": [
        "import os\r\n",
        "os.listdir(base_dir)"
      ],
      "execution_count": 13,
      "outputs": [
        {
          "output_type": "execute_result",
          "data": {
            "text/plain": [
              "['class.pt',\n",
              " 'gen_1.pt',\n",
              " 'gen_2.pt',\n",
              " 'gen_3.pt',\n",
              " 'gen_4.pt',\n",
              " 'insect_train.pt',\n",
              " 'insect_val.pt']"
            ]
          },
          "metadata": {
            "tags": []
          },
          "execution_count": 13
        }
      ]
    },
    {
      "cell_type": "code",
      "metadata": {
        "id": "hdPL-HZIWnAA"
      },
      "source": [
        "train_set = torch.load(base_dir+\"insect_train.pt\")"
      ],
      "execution_count": 14,
      "outputs": []
    },
    {
      "cell_type": "code",
      "metadata": {
        "id": "qTjDGqfJCVvY",
        "colab": {
          "base_uri": "https://localhost:8080/"
        },
        "outputId": "fb2da44f-62f6-4faf-df77-2686d8c0ab63"
      },
      "source": [
        "# UNQ_C2 (UNIQUE CELL IDENTIFIER, DO NOT EDIT)\r\n",
        "# GRADED FUNCTION: find_optimal\r\n",
        "import numpy as np\r\n",
        "\r\n",
        "def find_optimal():\r\n",
        "    # In the following section, you can write the code to choose your optimal answer\r\n",
        "    # You can even use the eval_augmentation function in your code if you'd like!\r\n",
        "    gen_names = [\r\n",
        "        base_dir+\"gen_1.pt\",\r\n",
        "        base_dir+\"gen_2.pt\",\r\n",
        "        base_dir+\"gen_3.pt\",\r\n",
        "        base_dir+\"gen_4.pt\"\r\n",
        "    ]\r\n",
        "\r\n",
        "    #### START CODE HERE #### \r\n",
        "    #best_gen_name == random.sample(gen_names, 1)[0]\r\n",
        "    best_p_real, best_gen_name = None, None\r\n",
        "    acc = 0\r\n",
        "    p= 0\r\n",
        "    for ge in gen_names:\r\n",
        "      for p in np.arange(0,1,0.1):\r\n",
        "        a = eval_augmentation(float(p), ge)\r\n",
        "        if a>acc:\r\n",
        "          acc = a\r\n",
        "          best_gen_name = ge\r\n",
        "          best_p_real = p\r\n",
        "\r\n",
        "    #### END CODE HERE ####\r\n",
        "    return best_p_real, best_gen_name\r\n",
        "\r\n",
        "def augmented_train(p_real, gen_name):\r\n",
        "    gen = Generator(generator_input_dim).to(device)\r\n",
        "    gen.load_state_dict(torch.load(gen_name))\r\n",
        "\r\n",
        "    classifier = Classifier(cifar100_shape[0], n_classes).to(device)\r\n",
        "    classifier.load_state_dict(torch.load(base_dir+\"class.pt\"))\r\n",
        "    criterion = nn.CrossEntropyLoss()\r\n",
        "    batch_size = 256\r\n",
        "\r\n",
        "    train_set = torch.load(base_dir+\"insect_train.pt\")\r\n",
        "    val_set = torch.load(base_dir+\"insect_val.pt\")\r\n",
        "    dataloader = DataLoader(\r\n",
        "        torch.utils.data.TensorDataset(train_set[\"images\"], train_set[\"labels\"]),\r\n",
        "        batch_size=batch_size,\r\n",
        "        shuffle=True\r\n",
        "    )\r\n",
        "    validation_dataloader = DataLoader(\r\n",
        "        torch.utils.data.TensorDataset(val_set[\"images\"], val_set[\"labels\"]),\r\n",
        "        batch_size=batch_size\r\n",
        "    )\r\n",
        "\r\n",
        "    display_step = 1\r\n",
        "    lr = 0.0002\r\n",
        "    n_epochs = 20\r\n",
        "    classifier_opt = torch.optim.Adam(classifier.parameters(), lr=lr)\r\n",
        "    cur_step = 0\r\n",
        "    best_score = 0\r\n",
        "    for epoch in range(n_epochs):\r\n",
        "        for real, labels in dataloader:\r\n",
        "            real = real.to(device)\r\n",
        "            # Flatten the image\r\n",
        "            labels = labels.to(device)\r\n",
        "            one_hot_labels = get_one_hot_labels(labels.to(device), n_classes).float()\r\n",
        "\r\n",
        "            ### Update classifier ###\r\n",
        "            # Get noise corresponding to the current batch_size\r\n",
        "            classifier_opt.zero_grad()\r\n",
        "            cur_batch_size = len(labels)\r\n",
        "            fake_noise = get_noise(cur_batch_size, z_dim, device=device)\r\n",
        "            noise_and_labels = combine_vectors(fake_noise, one_hot_labels)\r\n",
        "            fake = gen(noise_and_labels)\r\n",
        "\r\n",
        "            target_images = combine_sample(real.clone(), fake.clone(), p_real)\r\n",
        "            labels_hat = classifier(target_images.detach())\r\n",
        "            classifier_loss = criterion(labels_hat, labels)\r\n",
        "            classifier_loss.backward()\r\n",
        "            classifier_opt.step()\r\n",
        "\r\n",
        "            # Calculate the accuracy on the validation set\r\n",
        "            if cur_step % display_step == 0 and cur_step > 0:\r\n",
        "                classifier_val_loss = 0\r\n",
        "                classifier_correct = 0\r\n",
        "                num_validation = 0\r\n",
        "                with torch.no_grad():\r\n",
        "                    for val_example, val_label in validation_dataloader:\r\n",
        "                        cur_batch_size = len(val_example)\r\n",
        "                        num_validation += cur_batch_size\r\n",
        "                        val_example = val_example.to(device)\r\n",
        "                        val_label = val_label.to(device)\r\n",
        "                        labels_hat = classifier(val_example)\r\n",
        "                        classifier_val_loss += criterion(labels_hat, val_label) * cur_batch_size\r\n",
        "                        classifier_correct += (labels_hat.argmax(1) == val_label).float().sum()\r\n",
        "                    accuracy = classifier_correct.item() / num_validation\r\n",
        "                    if accuracy > best_score:\r\n",
        "                        best_score = accuracy\r\n",
        "            cur_step += 1\r\n",
        "    return best_score\r\n",
        "\r\n",
        "def eval_augmentation(p_real, gen_name, n_test=20):\r\n",
        "    total = 0\r\n",
        "    for i in range(n_test):\r\n",
        "        total += augmented_train(p_real, gen_name)\r\n",
        "    return total / n_test\r\n",
        "\r\n",
        "best_p_real, best_gen_name = find_optimal()\r\n",
        "performance = eval_augmentation(best_p_real, best_gen_name)\r\n",
        "print(f\"Your model had an accuracy of {performance:0.1%}\")\r\n",
        "assert performance > 0.51\r\n",
        "print(\"Success!\")"
      ],
      "execution_count": 18,
      "outputs": [
        {
          "output_type": "stream",
          "text": [
            "Your model had an accuracy of 51.8%\n",
            "Success!\n"
          ],
          "name": "stdout"
        }
      ]
    },
    {
      "cell_type": "markdown",
      "metadata": {
        "id": "VkoW3V2ifkZx"
      },
      "source": [
        "You'll likely find that the worst performance is when the generator is performing alone: this corresponds to the case where you might be trying to hide the underlying examples from the classifier. Perhaps you don't want other people to know about your specific bugs!"
      ]
    },
    {
      "cell_type": "code",
      "metadata": {
        "id": "1BrVABmlCVr9",
        "colab": {
          "base_uri": "https://localhost:8080/",
          "height": 328,
          "referenced_widgets": [
            "fabcf11a2c4d4e6faa649ba00669a033",
            "26d287d6cabd44ea898860aff23455fb",
            "c5e951dfdf96495c8c9e621de3f5f625",
            "fb3fe45262ca4ef0ba8954b1f09016d5",
            "e212db75a3e54d0a87f1656577397a69",
            "3087e85c98f044028123f118a5fbd169",
            "4108a574d39f4042912d11b92f45bac0",
            "138c272435de452299d878c6b0a12384"
          ]
        },
        "outputId": "b2b91f2a-30ef-4336-f02c-a419eff5a661"
      },
      "source": [
        "accuracies = []\r\n",
        "p_real_all = torch.linspace(0, 1, 21)\r\n",
        "for p_real_vis in tqdm(p_real_all):\r\n",
        "    accuracies += [eval_augmentation(p_real_vis, best_gen_name, n_test=4)]\r\n",
        "plt.plot(p_real_all.tolist(), accuracies)\r\n",
        "plt.ylabel(\"Accuracy\")\r\n",
        "_ = plt.xlabel(\"Percent Real Images\")"
      ],
      "execution_count": 19,
      "outputs": [
        {
          "output_type": "display_data",
          "data": {
            "application/vnd.jupyter.widget-view+json": {
              "model_id": "fabcf11a2c4d4e6faa649ba00669a033",
              "version_minor": 0,
              "version_major": 2
            },
            "text/plain": [
              "HBox(children=(FloatProgress(value=0.0, max=21.0), HTML(value='')))"
            ]
          },
          "metadata": {
            "tags": []
          }
        },
        {
          "output_type": "stream",
          "text": [
            "\n"
          ],
          "name": "stdout"
        },
        {
          "output_type": "display_data",
          "data": {
            "image/png": "[encoded data removed]",
            "text/plain": [
              "<Figure size 432x288 with 1 Axes>"
            ]
          },
          "metadata": {
            "tags": [],
            "needs_background": "light"
          }
        }
      ]
    },
    {
      "cell_type": "markdown",
      "metadata": {
        "id": "Tzmv0r8df9Uk"
      },
      "source": [
        "Here's a visualization of what the generator is actually generating, with real examples of each class above the corresponding generated image."
      ]
    },
    {
      "cell_type": "code",
      "metadata": {
        "id": "2hFYRnt4CVn1",
        "colab": {
          "base_uri": "https://localhost:8080/",
          "height": 187
        },
        "outputId": "ccfcd2db-7134-4bb8-8dd6-97b494504738"
      },
      "source": [
        "examples = [4, 41, 80, 122, 160]\r\n",
        "train_images = torch.load(base_dir+\"insect_train.pt\")[\"images\"][examples]\r\n",
        "train_labels = torch.load(base_dir+\"insect_train.pt\")[\"labels\"][examples]\r\n",
        "\r\n",
        "one_hot_labels = get_one_hot_labels(train_labels.to(device), n_classes).float()\r\n",
        "fake_noise = get_noise(len(train_images), z_dim, device=device)\r\n",
        "noise_and_labels = combine_vectors(fake_noise, one_hot_labels)\r\n",
        "gen = Generator(generator_input_dim).to(device)\r\n",
        "gen.load_state_dict(torch.load(best_gen_name))\r\n",
        "\r\n",
        "fake = gen(noise_and_labels)\r\n",
        "show_tensor_images(torch.cat([train_images.cpu(), fake.cpu()]))"
      ],
      "execution_count": 20,
      "outputs": [
        {
          "output_type": "display_data",
          "data": {
            "image/png": "[encoded data removed]",
            "text/plain": [
              "<Figure size 432x288 with 1 Axes>"
            ]
          },
          "metadata": {
            "tags": [],
            "needs_background": "light"
          }
        }
      ]
    }
  ]
}